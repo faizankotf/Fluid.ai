{
  "nbformat": 4,
  "nbformat_minor": 0,
  "metadata": {
    "colab": {
      "name": "Faizan Ahmad",
      "provenance": []
    },
    "kernelspec": {
      "name": "python3",
      "display_name": "Python 3"
    },
    "language_info": {
      "name": "python"
    }
  },
  "cells": [
    {
      "cell_type": "code",
      "source": [
        "#importing the libraries\n",
        "import math\n",
        "import numpy as np\n",
        "import pandas as pd\n",
        "from sklearn.preprocessing import MinMaxScaler\n",
        "from keras.models import Sequential\n",
        "from keras.layers import Dense, LSTM\n",
        "import matplotlib.pyplot as plt\n",
        "plt.style.use('fivethirtyeight')"
      ],
      "metadata": {
        "id": "FhF1n2Q0QQlq"
      },
      "execution_count": null,
      "outputs": []
    },
    {
      "cell_type": "markdown",
      "source": [
        "Data Exploration"
      ],
      "metadata": {
        "id": "7RfZNi-Zs5lb"
      }
    },
    {
      "cell_type": "markdown",
      "source": [
        "Import Data"
      ],
      "metadata": {
        "id": "uB45Xy7JuSGv"
      }
    },
    {
      "cell_type": "code",
      "execution_count": null,
      "metadata": {
        "id": "yfY34ku6ygpo"
      },
      "outputs": [],
      "source": [
        "\n",
        "test=pd.read_csv('/content/BTC-USD Out of Time Testing 1st Jan 2022 to 4th Feb 2022.csv')\n"
      ]
    },
    {
      "cell_type": "code",
      "source": [
        "train=pd.read_csv('/content/BTC-USD Training Data - 1st Jan 2016 to 1st Jan 2022.csv')\n"
      ],
      "metadata": {
        "id": "a2jnUXcc_yU8"
      },
      "execution_count": null,
      "outputs": []
    },
    {
      "cell_type": "markdown",
      "source": [
        "Data Exploration"
      ],
      "metadata": {
        "id": "QBd6ZpuwudTq"
      }
    },
    {
      "cell_type": "code",
      "source": [
        "train.head(5)"
      ],
      "metadata": {
        "colab": {
          "base_uri": "https://localhost:8080/",
          "height": 250
        },
        "id": "LK-yEbq3ukJ0",
        "outputId": "ae427d7a-415d-4bbe-9f67-7cf7e5b003f3"
      },
      "execution_count": null,
      "outputs": [
        {
          "output_type": "execute_result",
          "data": {
            "text/html": [
              "\n",
              "  <div id=\"df-068d7773-867a-4cc7-80d7-69715b60866b\">\n",
              "    <div class=\"colab-df-container\">\n",
              "      <div>\n",
              "<style scoped>\n",
              "    .dataframe tbody tr th:only-of-type {\n",
              "        vertical-align: middle;\n",
              "    }\n",
              "\n",
              "    .dataframe tbody tr th {\n",
              "        vertical-align: top;\n",
              "    }\n",
              "\n",
              "    .dataframe thead th {\n",
              "        text-align: right;\n",
              "    }\n",
              "</style>\n",
              "<table border=\"1\" class=\"dataframe\">\n",
              "  <thead>\n",
              "    <tr style=\"text-align: right;\">\n",
              "      <th></th>\n",
              "      <th>Date</th>\n",
              "      <th>Open</th>\n",
              "      <th>High</th>\n",
              "      <th>Low</th>\n",
              "      <th>Close</th>\n",
              "      <th>Adj Close</th>\n",
              "      <th>Volume</th>\n",
              "    </tr>\n",
              "  </thead>\n",
              "  <tbody>\n",
              "    <tr>\n",
              "      <th>0</th>\n",
              "      <td>2016-01-01</td>\n",
              "      <td>430.721008</td>\n",
              "      <td>436.246002</td>\n",
              "      <td>427.515015</td>\n",
              "      <td>434.334015</td>\n",
              "      <td>434.334015</td>\n",
              "      <td>36278900</td>\n",
              "    </tr>\n",
              "    <tr>\n",
              "      <th>1</th>\n",
              "      <td>2016-01-02</td>\n",
              "      <td>434.622009</td>\n",
              "      <td>436.062012</td>\n",
              "      <td>431.869995</td>\n",
              "      <td>433.437988</td>\n",
              "      <td>433.437988</td>\n",
              "      <td>30096600</td>\n",
              "    </tr>\n",
              "    <tr>\n",
              "      <th>2</th>\n",
              "      <td>2016-01-03</td>\n",
              "      <td>433.578003</td>\n",
              "      <td>433.743011</td>\n",
              "      <td>424.705994</td>\n",
              "      <td>430.010986</td>\n",
              "      <td>430.010986</td>\n",
              "      <td>39633800</td>\n",
              "    </tr>\n",
              "    <tr>\n",
              "      <th>3</th>\n",
              "      <td>2016-01-04</td>\n",
              "      <td>430.061005</td>\n",
              "      <td>434.516998</td>\n",
              "      <td>429.084015</td>\n",
              "      <td>433.091003</td>\n",
              "      <td>433.091003</td>\n",
              "      <td>38477500</td>\n",
              "    </tr>\n",
              "    <tr>\n",
              "      <th>4</th>\n",
              "      <td>2016-01-05</td>\n",
              "      <td>433.069000</td>\n",
              "      <td>434.182007</td>\n",
              "      <td>429.675995</td>\n",
              "      <td>431.959991</td>\n",
              "      <td>431.959991</td>\n",
              "      <td>34522600</td>\n",
              "    </tr>\n",
              "  </tbody>\n",
              "</table>\n",
              "</div>\n",
              "      <button class=\"colab-df-convert\" onclick=\"convertToInteractive('df-068d7773-867a-4cc7-80d7-69715b60866b')\"\n",
              "              title=\"Convert this dataframe to an interactive table.\"\n",
              "              style=\"display:none;\">\n",
              "        \n",
              "  <svg xmlns=\"http://www.w3.org/2000/svg\" height=\"24px\"viewBox=\"0 0 24 24\"\n",
              "       width=\"24px\">\n",
              "    <path d=\"M0 0h24v24H0V0z\" fill=\"none\"/>\n",
              "    <path d=\"M18.56 5.44l.94 2.06.94-2.06 2.06-.94-2.06-.94-.94-2.06-.94 2.06-2.06.94zm-11 1L8.5 8.5l.94-2.06 2.06-.94-2.06-.94L8.5 2.5l-.94 2.06-2.06.94zm10 10l.94 2.06.94-2.06 2.06-.94-2.06-.94-.94-2.06-.94 2.06-2.06.94z\"/><path d=\"M17.41 7.96l-1.37-1.37c-.4-.4-.92-.59-1.43-.59-.52 0-1.04.2-1.43.59L10.3 9.45l-7.72 7.72c-.78.78-.78 2.05 0 2.83L4 21.41c.39.39.9.59 1.41.59.51 0 1.02-.2 1.41-.59l7.78-7.78 2.81-2.81c.8-.78.8-2.07 0-2.86zM5.41 20L4 18.59l7.72-7.72 1.47 1.35L5.41 20z\"/>\n",
              "  </svg>\n",
              "      </button>\n",
              "      \n",
              "  <style>\n",
              "    .colab-df-container {\n",
              "      display:flex;\n",
              "      flex-wrap:wrap;\n",
              "      gap: 12px;\n",
              "    }\n",
              "\n",
              "    .colab-df-convert {\n",
              "      background-color: #E8F0FE;\n",
              "      border: none;\n",
              "      border-radius: 50%;\n",
              "      cursor: pointer;\n",
              "      display: none;\n",
              "      fill: #1967D2;\n",
              "      height: 32px;\n",
              "      padding: 0 0 0 0;\n",
              "      width: 32px;\n",
              "    }\n",
              "\n",
              "    .colab-df-convert:hover {\n",
              "      background-color: #E2EBFA;\n",
              "      box-shadow: 0px 1px 2px rgba(60, 64, 67, 0.3), 0px 1px 3px 1px rgba(60, 64, 67, 0.15);\n",
              "      fill: #174EA6;\n",
              "    }\n",
              "\n",
              "    [theme=dark] .colab-df-convert {\n",
              "      background-color: #3B4455;\n",
              "      fill: #D2E3FC;\n",
              "    }\n",
              "\n",
              "    [theme=dark] .colab-df-convert:hover {\n",
              "      background-color: #434B5C;\n",
              "      box-shadow: 0px 1px 3px 1px rgba(0, 0, 0, 0.15);\n",
              "      filter: drop-shadow(0px 1px 2px rgba(0, 0, 0, 0.3));\n",
              "      fill: #FFFFFF;\n",
              "    }\n",
              "  </style>\n",
              "\n",
              "      <script>\n",
              "        const buttonEl =\n",
              "          document.querySelector('#df-068d7773-867a-4cc7-80d7-69715b60866b button.colab-df-convert');\n",
              "        buttonEl.style.display =\n",
              "          google.colab.kernel.accessAllowed ? 'block' : 'none';\n",
              "\n",
              "        async function convertToInteractive(key) {\n",
              "          const element = document.querySelector('#df-068d7773-867a-4cc7-80d7-69715b60866b');\n",
              "          const dataTable =\n",
              "            await google.colab.kernel.invokeFunction('convertToInteractive',\n",
              "                                                     [key], {});\n",
              "          if (!dataTable) return;\n",
              "\n",
              "          const docLinkHtml = 'Like what you see? Visit the ' +\n",
              "            '<a target=\"_blank\" href=https://colab.research.google.com/notebooks/data_table.ipynb>data table notebook</a>'\n",
              "            + ' to learn more about interactive tables.';\n",
              "          element.innerHTML = '';\n",
              "          dataTable['output_type'] = 'display_data';\n",
              "          await google.colab.output.renderOutput(dataTable, element);\n",
              "          const docLink = document.createElement('div');\n",
              "          docLink.innerHTML = docLinkHtml;\n",
              "          element.appendChild(docLink);\n",
              "        }\n",
              "      </script>\n",
              "    </div>\n",
              "  </div>\n",
              "  "
            ],
            "text/plain": [
              "        Date        Open        High  ...       Close   Adj Close    Volume\n",
              "0 2016-01-01  430.721008  436.246002  ...  434.334015  434.334015  36278900\n",
              "1 2016-01-02  434.622009  436.062012  ...  433.437988  433.437988  30096600\n",
              "2 2016-01-03  433.578003  433.743011  ...  430.010986  430.010986  39633800\n",
              "3 2016-01-04  430.061005  434.516998  ...  433.091003  433.091003  38477500\n",
              "4 2016-01-05  433.069000  434.182007  ...  431.959991  431.959991  34522600\n",
              "\n",
              "[5 rows x 7 columns]"
            ]
          },
          "metadata": {},
          "execution_count": 93
        }
      ]
    },
    {
      "cell_type": "code",
      "source": [
        "train.tail(5)"
      ],
      "metadata": {
        "colab": {
          "base_uri": "https://localhost:8080/",
          "height": 357
        },
        "id": "g4A4kbaHurwG",
        "outputId": "c74a20ba-beb7-41ea-9454-6bd7f2da685a"
      },
      "execution_count": null,
      "outputs": [
        {
          "output_type": "execute_result",
          "data": {
            "text/html": [
              "\n",
              "  <div id=\"df-ddfdc133-8ec5-4058-84e2-40b520397062\">\n",
              "    <div class=\"colab-df-container\">\n",
              "      <div>\n",
              "<style scoped>\n",
              "    .dataframe tbody tr th:only-of-type {\n",
              "        vertical-align: middle;\n",
              "    }\n",
              "\n",
              "    .dataframe tbody tr th {\n",
              "        vertical-align: top;\n",
              "    }\n",
              "\n",
              "    .dataframe thead th {\n",
              "        text-align: right;\n",
              "    }\n",
              "</style>\n",
              "<table border=\"1\" class=\"dataframe\">\n",
              "  <thead>\n",
              "    <tr style=\"text-align: right;\">\n",
              "      <th></th>\n",
              "      <th>Date</th>\n",
              "      <th>Open</th>\n",
              "      <th>High</th>\n",
              "      <th>Low</th>\n",
              "      <th>Close</th>\n",
              "      <th>Adj Close</th>\n",
              "      <th>Volume</th>\n",
              "    </tr>\n",
              "  </thead>\n",
              "  <tbody>\n",
              "    <tr>\n",
              "      <th>2188</th>\n",
              "      <td>2021-12-28</td>\n",
              "      <td>50679.859375</td>\n",
              "      <td>50679.859375</td>\n",
              "      <td>47414.210938</td>\n",
              "      <td>47588.855469</td>\n",
              "      <td>47588.855469</td>\n",
              "      <td>33430376883</td>\n",
              "    </tr>\n",
              "    <tr>\n",
              "      <th>2189</th>\n",
              "      <td>2021-12-29</td>\n",
              "      <td>47623.871094</td>\n",
              "      <td>48119.742188</td>\n",
              "      <td>46201.496094</td>\n",
              "      <td>46444.710938</td>\n",
              "      <td>46444.710938</td>\n",
              "      <td>30049226299</td>\n",
              "    </tr>\n",
              "    <tr>\n",
              "      <th>2190</th>\n",
              "      <td>2021-12-30</td>\n",
              "      <td>46490.605469</td>\n",
              "      <td>47879.964844</td>\n",
              "      <td>46060.312500</td>\n",
              "      <td>47178.125000</td>\n",
              "      <td>47178.125000</td>\n",
              "      <td>26686491018</td>\n",
              "    </tr>\n",
              "    <tr>\n",
              "      <th>2191</th>\n",
              "      <td>2021-12-31</td>\n",
              "      <td>47169.371094</td>\n",
              "      <td>48472.527344</td>\n",
              "      <td>45819.953125</td>\n",
              "      <td>46306.445313</td>\n",
              "      <td>46306.445313</td>\n",
              "      <td>36974172400</td>\n",
              "    </tr>\n",
              "    <tr>\n",
              "      <th>2192</th>\n",
              "      <td>2022-01-01</td>\n",
              "      <td>46311.746094</td>\n",
              "      <td>47827.312500</td>\n",
              "      <td>46288.484375</td>\n",
              "      <td>47686.812500</td>\n",
              "      <td>47686.812500</td>\n",
              "      <td>24582667004</td>\n",
              "    </tr>\n",
              "  </tbody>\n",
              "</table>\n",
              "</div>\n",
              "      <button class=\"colab-df-convert\" onclick=\"convertToInteractive('df-ddfdc133-8ec5-4058-84e2-40b520397062')\"\n",
              "              title=\"Convert this dataframe to an interactive table.\"\n",
              "              style=\"display:none;\">\n",
              "        \n",
              "  <svg xmlns=\"http://www.w3.org/2000/svg\" height=\"24px\"viewBox=\"0 0 24 24\"\n",
              "       width=\"24px\">\n",
              "    <path d=\"M0 0h24v24H0V0z\" fill=\"none\"/>\n",
              "    <path d=\"M18.56 5.44l.94 2.06.94-2.06 2.06-.94-2.06-.94-.94-2.06-.94 2.06-2.06.94zm-11 1L8.5 8.5l.94-2.06 2.06-.94-2.06-.94L8.5 2.5l-.94 2.06-2.06.94zm10 10l.94 2.06.94-2.06 2.06-.94-2.06-.94-.94-2.06-.94 2.06-2.06.94z\"/><path d=\"M17.41 7.96l-1.37-1.37c-.4-.4-.92-.59-1.43-.59-.52 0-1.04.2-1.43.59L10.3 9.45l-7.72 7.72c-.78.78-.78 2.05 0 2.83L4 21.41c.39.39.9.59 1.41.59.51 0 1.02-.2 1.41-.59l7.78-7.78 2.81-2.81c.8-.78.8-2.07 0-2.86zM5.41 20L4 18.59l7.72-7.72 1.47 1.35L5.41 20z\"/>\n",
              "  </svg>\n",
              "      </button>\n",
              "      \n",
              "  <style>\n",
              "    .colab-df-container {\n",
              "      display:flex;\n",
              "      flex-wrap:wrap;\n",
              "      gap: 12px;\n",
              "    }\n",
              "\n",
              "    .colab-df-convert {\n",
              "      background-color: #E8F0FE;\n",
              "      border: none;\n",
              "      border-radius: 50%;\n",
              "      cursor: pointer;\n",
              "      display: none;\n",
              "      fill: #1967D2;\n",
              "      height: 32px;\n",
              "      padding: 0 0 0 0;\n",
              "      width: 32px;\n",
              "    }\n",
              "\n",
              "    .colab-df-convert:hover {\n",
              "      background-color: #E2EBFA;\n",
              "      box-shadow: 0px 1px 2px rgba(60, 64, 67, 0.3), 0px 1px 3px 1px rgba(60, 64, 67, 0.15);\n",
              "      fill: #174EA6;\n",
              "    }\n",
              "\n",
              "    [theme=dark] .colab-df-convert {\n",
              "      background-color: #3B4455;\n",
              "      fill: #D2E3FC;\n",
              "    }\n",
              "\n",
              "    [theme=dark] .colab-df-convert:hover {\n",
              "      background-color: #434B5C;\n",
              "      box-shadow: 0px 1px 3px 1px rgba(0, 0, 0, 0.15);\n",
              "      filter: drop-shadow(0px 1px 2px rgba(0, 0, 0, 0.3));\n",
              "      fill: #FFFFFF;\n",
              "    }\n",
              "  </style>\n",
              "\n",
              "      <script>\n",
              "        const buttonEl =\n",
              "          document.querySelector('#df-ddfdc133-8ec5-4058-84e2-40b520397062 button.colab-df-convert');\n",
              "        buttonEl.style.display =\n",
              "          google.colab.kernel.accessAllowed ? 'block' : 'none';\n",
              "\n",
              "        async function convertToInteractive(key) {\n",
              "          const element = document.querySelector('#df-ddfdc133-8ec5-4058-84e2-40b520397062');\n",
              "          const dataTable =\n",
              "            await google.colab.kernel.invokeFunction('convertToInteractive',\n",
              "                                                     [key], {});\n",
              "          if (!dataTable) return;\n",
              "\n",
              "          const docLinkHtml = 'Like what you see? Visit the ' +\n",
              "            '<a target=\"_blank\" href=https://colab.research.google.com/notebooks/data_table.ipynb>data table notebook</a>'\n",
              "            + ' to learn more about interactive tables.';\n",
              "          element.innerHTML = '';\n",
              "          dataTable['output_type'] = 'display_data';\n",
              "          await google.colab.output.renderOutput(dataTable, element);\n",
              "          const docLink = document.createElement('div');\n",
              "          docLink.innerHTML = docLinkHtml;\n",
              "          element.appendChild(docLink);\n",
              "        }\n",
              "      </script>\n",
              "    </div>\n",
              "  </div>\n",
              "  "
            ],
            "text/plain": [
              "            Date          Open  ...     Adj Close       Volume\n",
              "2188  2021-12-28  50679.859375  ...  47588.855469  33430376883\n",
              "2189  2021-12-29  47623.871094  ...  46444.710938  30049226299\n",
              "2190  2021-12-30  46490.605469  ...  47178.125000  26686491018\n",
              "2191  2021-12-31  47169.371094  ...  46306.445313  36974172400\n",
              "2192  2022-01-01  46311.746094  ...  47686.812500  24582667004\n",
              "\n",
              "[5 rows x 7 columns]"
            ]
          },
          "metadata": {},
          "execution_count": 96
        }
      ]
    },
    {
      "cell_type": "code",
      "source": [
        "train.info()"
      ],
      "metadata": {
        "colab": {
          "base_uri": "https://localhost:8080/"
        },
        "id": "ZVVP6Hjgu5VQ",
        "outputId": "6e868c37-cd79-4133-ae1f-9982bdc4dda9"
      },
      "execution_count": null,
      "outputs": [
        {
          "output_type": "stream",
          "name": "stdout",
          "text": [
            "<class 'pandas.core.frame.DataFrame'>\n",
            "RangeIndex: 2193 entries, 0 to 2192\n",
            "Data columns (total 7 columns):\n",
            " #   Column     Non-Null Count  Dtype  \n",
            "---  ------     --------------  -----  \n",
            " 0   Date       2193 non-null   object \n",
            " 1   Open       2193 non-null   float64\n",
            " 2   High       2193 non-null   float64\n",
            " 3   Low        2193 non-null   float64\n",
            " 4   Close      2193 non-null   float64\n",
            " 5   Adj Close  2193 non-null   float64\n",
            " 6   Volume     2193 non-null   int64  \n",
            "dtypes: float64(5), int64(1), object(1)\n",
            "memory usage: 120.1+ KB\n"
          ]
        }
      ]
    },
    {
      "cell_type": "code",
      "source": [
        "train.isnull().sum()"
      ],
      "metadata": {
        "colab": {
          "base_uri": "https://localhost:8080/"
        },
        "id": "yyq2gcMHtqc2",
        "outputId": "2d7ea8dc-af43-46b1-ddbe-8bd1468867d3"
      },
      "execution_count": null,
      "outputs": [
        {
          "output_type": "execute_result",
          "data": {
            "text/plain": [
              "Date         0\n",
              "Open         0\n",
              "High         0\n",
              "Low          0\n",
              "Close        0\n",
              "Adj Close    0\n",
              "Volume       0\n",
              "dtype: int64"
            ]
          },
          "metadata": {},
          "execution_count": 98
        }
      ]
    },
    {
      "cell_type": "code",
      "source": [
        "## Missing data\n",
        "plt.figure(figsize=(1,1))\n",
        "import missingno as msno\n",
        "msno.bar(train)\n",
        "plt.show()"
      ],
      "metadata": {
        "colab": {
          "base_uri": "https://localhost:8080/",
          "height": 274
        },
        "id": "Qhbfb1nQtOsW",
        "outputId": "9bd36240-2f9f-44be-c964-81c5e8dcd670"
      },
      "execution_count": null,
      "outputs": [
        {
          "output_type": "display_data",
          "data": {
            "image/png": "[encoded data removed]",
            "text/plain": [
              "<Figure size 1800x720 with 3 Axes>"
            ]
          },
          "metadata": {
            "needs_background": "light"
          }
        }
      ]
    },
    {
      "cell_type": "markdown",
      "source": [
        "Let us graphically represent the closing prices of the stock."
      ],
      "metadata": {
        "id": "sswqaQWuv5sD"
      }
    },
    {
      "cell_type": "code",
      "source": [
        "plt.figure(figsize=(12,6))\n",
        "plt.title('Closing Price of the Stock Historically')\n",
        "plt.plot(train_data['Close'])\n",
        "plt.xlabel('Year', fontsize=12)\n",
        "plt.ylabel('Closing Price Historically ($)', fontsize=20)\n",
        "plt.show()"
      ],
      "metadata": {
        "colab": {
          "base_uri": "https://localhost:8080/",
          "height": 327
        },
        "id": "S8INPgsxtqZK",
        "outputId": "8c50646c-cc4e-4416-ee2b-55ac4808fdce"
      },
      "execution_count": null,
      "outputs": [
        {
          "output_type": "display_data",
          "data": {
            "image/png": "[encoded data removed]",
            "text/plain": [
              "<Figure size 864x432 with 1 Axes>"
            ]
          },
          "metadata": {
            "needs_background": "light"
          }
        }
      ]
    },
    {
      "cell_type": "markdown",
      "source": [
        "**LSTM Algorithm**"
      ],
      "metadata": {
        "id": "-pTb3xtTRT-E"
      }
    },
    {
      "cell_type": "markdown",
      "source": [
        "We need to create a seperate dataframe with the \"close\" column"
      ],
      "metadata": {
        "id": "RF7q1ExdRNc5"
      }
    },
    {
      "cell_type": "code",
      "source": [
        "train = train.filter(['Close'])\n",
        "dataset = train.values"
      ],
      "metadata": {
        "id": "dlYs0X-ZtqWH"
      },
      "execution_count": null,
      "outputs": []
    },
    {
      "cell_type": "code",
      "source": [
        "#Find out the number of rows that are present in this dataset in order to train our model.\n",
        "training_data_len = math.ceil(len(dataset)* .8)\n",
        "training_data_len"
      ],
      "metadata": {
        "id": "U8jU4Hc2AELo",
        "colab": {
          "base_uri": "https://localhost:8080/"
        },
        "outputId": "50d72f62-6a2b-418d-fbd4-797ab4b4fa91"
      },
      "execution_count": null,
      "outputs": [
        {
          "output_type": "execute_result",
          "data": {
            "text/plain": [
              "1755"
            ]
          },
          "metadata": {},
          "execution_count": 91
        }
      ]
    },
    {
      "cell_type": "markdown",
      "source": [
        "Now, we need to scale the data"
      ],
      "metadata": {
        "id": "x0zbSUWCTceN"
      }
    },
    {
      "cell_type": "code",
      "source": [
        "scaler = MinMaxScaler(feature_range=(0,1))\n",
        "scaled_data = scaler.fit_transform(dataset)\n",
        "scaled_data"
      ],
      "metadata": {
        "colab": {
          "base_uri": "https://localhost:8080/"
        },
        "id": "t-5pcCB0Tebd",
        "outputId": "2c6315a3-9232-499b-ca39-e244e1b38653"
      },
      "execution_count": null,
      "outputs": [
        {
          "output_type": "execute_result",
          "data": {
            "text/plain": [
              "array([[0.00104167],\n",
              "       [0.00102834],\n",
              "       [0.00097734],\n",
              "       ...,\n",
              "       [0.69660795],\n",
              "       [0.68363701],\n",
              "       [0.70417743]])"
            ]
          },
          "metadata": {},
          "execution_count": 89
        }
      ]
    },
    {
      "cell_type": "markdown",
      "source": [
        "**Create the training data for the model**"
      ],
      "metadata": {
        "id": "qNrM6KcQTuhp"
      }
    },
    {
      "cell_type": "code",
      "source": [
        "train_data = scaled_data[0:training_data_len , :]\n",
        "x_train = []\n",
        "y_train = []\n",
        "\n",
        "for j in range(60, len(train_data)):\n",
        "    x_train.append(train_data[j-60:j,0])\n",
        "    y_train.append(train_data[j,0])\n",
        "    if j<=60:\n",
        "        print(x_train)\n",
        "        print(y_train)\n",
        "        print()"
      ],
      "metadata": {
        "colab": {
          "base_uri": "https://localhost:8080/"
        },
        "id": "A3T1DQd5Teov",
        "outputId": "e1fb63cd-5062-4612-bcd7-caf7ae9ddcad"
      },
      "execution_count": null,
      "outputs": [
        {
          "output_type": "stream",
          "name": "stdout",
          "text": [
            "[array([1.04167291e-03, 1.02833967e-03, 9.77344516e-04, 1.02317640e-03,\n",
            "       1.00634649e-03, 9.63863246e-04, 1.39454654e-03, 1.32285288e-03,\n",
            "       1.23923963e-03, 1.24489426e-03, 1.25139717e-03, 1.06185054e-03,\n",
            "       1.01246250e-03, 9.81734442e-04, 0.00000000e+00, 3.45299922e-04,\n",
            "       2.67371270e-04, 3.39823756e-04, 2.35378054e-04, 8.31799701e-04,\n",
            "       6.83471611e-04, 2.70243083e-04, 3.44630095e-04, 5.74978842e-04,\n",
            "       4.07648825e-04, 4.14002785e-04, 4.55950185e-04, 2.37461518e-04,\n",
            "       2.25333963e-04, 2.07194845e-04, 6.60095114e-05, 1.29831574e-04,\n",
            "       1.50545061e-04, 8.35982477e-05, 3.75923531e-04, 3.30612968e-04,\n",
            "       1.81407083e-04, 1.82865243e-04, 1.35649677e-04, 1.74070883e-04,\n",
            "       2.57698653e-04, 2.28012331e-04, 2.96596211e-04, 4.09642382e-04,\n",
            "       6.38354508e-04, 5.33521901e-04, 6.42193592e-04, 7.73646802e-04,\n",
            "       8.63688025e-04, 8.40058218e-04, 1.08378424e-03, 1.10809885e-03,\n",
            "       1.09247417e-03, 8.39328900e-04, 9.02109231e-04, 8.95993669e-04,\n",
            "       1.00920378e-03, 1.01466494e-03, 1.02932193e-03, 1.09171534e-03])]\n",
            "[0.0010534131174025118]\n",
            "\n"
          ]
        }
      ]
    },
    {
      "cell_type": "code",
      "source": [
        "x_train, y_train = np.array(x_train), np.array(y_train)"
      ],
      "metadata": {
        "id": "Sw70nvIRTenG"
      },
      "execution_count": null,
      "outputs": []
    },
    {
      "cell_type": "code",
      "source": [
        "x_train = np.reshape(x_train, (x_train.shape[0], x_train.shape[1], 1))\n",
        "x_train.shape"
      ],
      "metadata": {
        "colab": {
          "base_uri": "https://localhost:8080/"
        },
        "id": "3p4AizfiUMpH",
        "outputId": "34411958-1ff2-4d6f-d3f9-ed1082d2a197"
      },
      "execution_count": null,
      "outputs": [
        {
          "output_type": "execute_result",
          "data": {
            "text/plain": [
              "(1695, 60, 1)"
            ]
          },
          "metadata": {},
          "execution_count": 18
        }
      ]
    },
    {
      "cell_type": "markdown",
      "source": [
        "**Building the LSTM Model**"
      ],
      "metadata": {
        "id": "PIjsg3Sib76E"
      }
    },
    {
      "cell_type": "code",
      "source": [
        "model = Sequential()\n",
        "model.add(LSTM(50, return_sequences=True, input_shape = (x_train.shape[1], 1)))\n",
        "model.add(LSTM(50, return_sequences=False))\n",
        "model.add(Dense(25))\n",
        "model.add(Dense(1))"
      ],
      "metadata": {
        "id": "Udjke9BtcB4u"
      },
      "execution_count": null,
      "outputs": []
    },
    {
      "cell_type": "code",
      "source": [
        "model.compile(optimizer='adam', loss='mean_squared_error')"
      ],
      "metadata": {
        "id": "uUu1OW0TcB2y"
      },
      "execution_count": null,
      "outputs": []
    },
    {
      "cell_type": "markdown",
      "source": [
        "Lets see the summary of the model."
      ],
      "metadata": {
        "id": "3feeIsqtphmF"
      }
    },
    {
      "cell_type": "code",
      "source": [
        ""
      ],
      "metadata": {
        "id": "g1pWz8HUpg03"
      },
      "execution_count": null,
      "outputs": []
    },
    {
      "cell_type": "code",
      "source": [
        "model.summary()"
      ],
      "metadata": {
        "colab": {
          "base_uri": "https://localhost:8080/"
        },
        "id": "wZAcPLHopWYQ",
        "outputId": "482d04f7-3672-4c79-8c40-71601809e71c"
      },
      "execution_count": null,
      "outputs": [
        {
          "output_type": "stream",
          "name": "stdout",
          "text": [
            "Model: \"sequential\"\n",
            "_________________________________________________________________\n",
            " Layer (type)                Output Shape              Param #   \n",
            "=================================================================\n",
            " lstm (LSTM)                 (None, 60, 50)            10400     \n",
            "                                                                 \n",
            " lstm_1 (LSTM)               (None, 50)                20200     \n",
            "                                                                 \n",
            " dense (Dense)               (None, 25)                1275      \n",
            "                                                                 \n",
            " dense_1 (Dense)             (None, 1)                 26        \n",
            "                                                                 \n",
            "=================================================================\n",
            "Total params: 31,901\n",
            "Trainable params: 31,901\n",
            "Non-trainable params: 0\n",
            "_________________________________________________________________\n"
          ]
        }
      ]
    },
    {
      "cell_type": "markdown",
      "source": [
        "**Training the Model**"
      ],
      "metadata": {
        "id": "XKgd3Hovczvw"
      }
    },
    {
      "cell_type": "code",
      "source": [
        "model.fit(x_train, y_train, batch_size=1, epochs=1)"
      ],
      "metadata": {
        "colab": {
          "base_uri": "https://localhost:8080/"
        },
        "id": "F3b3pLtkcBzX",
        "outputId": "14413013-3f2c-4b30-b775-a31a75030b0b"
      },
      "execution_count": null,
      "outputs": [
        {
          "output_type": "stream",
          "name": "stdout",
          "text": [
            "1695/1695 [==============================] - 56s 31ms/step - loss: 2.0766e-04\n"
          ]
        },
        {
          "output_type": "execute_result",
          "data": {
            "text/plain": [
              "<keras.callbacks.History at 0x7f091dade590>"
            ]
          },
          "metadata": {},
          "execution_count": 22
        }
      ]
    },
    {
      "cell_type": "code",
      "source": [
        "test_data = scaled_data[training_data_len - 60: , :]\n",
        "x_test = []\n",
        "y_test = dataset[training_data_len:, :]\n",
        "\n",
        "for j in range(60, len(test_data)):\n",
        "    x_test.append(test_data[j-60:j, 0])"
      ],
      "metadata": {
        "id": "0p5ura7-d1ty"
      },
      "execution_count": null,
      "outputs": []
    },
    {
      "cell_type": "code",
      "source": [
        "x_test = np.array(x_test)\n",
        "x_test"
      ],
      "metadata": {
        "id": "4ndM-XzxcBvE",
        "colab": {
          "base_uri": "https://localhost:8080/"
        },
        "outputId": "016fddc9-4b54-43e1-e29a-a27f162a2163"
      },
      "execution_count": null,
      "outputs": [
        {
          "output_type": "execute_result",
          "data": {
            "text/plain": [
              "array([[0.16840883, 0.1681562 , 0.1697893 , ..., 0.16545558, 0.16930481,\n",
              "        0.17189843],\n",
              "       [0.1681562 , 0.1697893 , 0.16371123, ..., 0.16930481, 0.17189843,\n",
              "        0.18540023],\n",
              "       [0.1697893 , 0.16371123, 0.16553004, ..., 0.17189843, 0.18540023,\n",
              "        0.18751626],\n",
              "       ...,\n",
              "       [0.90702918, 0.90234854, 0.93541273, ..., 0.74812826, 0.70271979,\n",
              "        0.68569446],\n",
              "       [0.90234854, 0.93541273, 0.93159806, ..., 0.70271979, 0.68569446,\n",
              "        0.69660795],\n",
              "       [0.93541273, 0.93159806, 0.90901234, ..., 0.68569446, 0.69660795,\n",
              "        0.68363701]])"
            ]
          },
          "metadata": {},
          "execution_count": 24
        }
      ]
    },
    {
      "cell_type": "code",
      "source": [
        "x_test = np.reshape(x_test, (x_test.shape[0], x_test.shape[1], 1))\n",
        "x_test"
      ],
      "metadata": {
        "id": "bBWcjHqjcBqR",
        "colab": {
          "base_uri": "https://localhost:8080/"
        },
        "outputId": "659aeb03-23ce-43a5-ba2c-af2b20b792ca"
      },
      "execution_count": null,
      "outputs": [
        {
          "output_type": "execute_result",
          "data": {
            "text/plain": [
              "array([[[0.16840883],\n",
              "        [0.1681562 ],\n",
              "        [0.1697893 ],\n",
              "        ...,\n",
              "        [0.16545558],\n",
              "        [0.16930481],\n",
              "        [0.17189843]],\n",
              "\n",
              "       [[0.1681562 ],\n",
              "        [0.1697893 ],\n",
              "        [0.16371123],\n",
              "        ...,\n",
              "        [0.16930481],\n",
              "        [0.17189843],\n",
              "        [0.18540023]],\n",
              "\n",
              "       [[0.1697893 ],\n",
              "        [0.16371123],\n",
              "        [0.16553004],\n",
              "        ...,\n",
              "        [0.17189843],\n",
              "        [0.18540023],\n",
              "        [0.18751626]],\n",
              "\n",
              "       ...,\n",
              "\n",
              "       [[0.90702918],\n",
              "        [0.90234854],\n",
              "        [0.93541273],\n",
              "        ...,\n",
              "        [0.74812826],\n",
              "        [0.70271979],\n",
              "        [0.68569446]],\n",
              "\n",
              "       [[0.90234854],\n",
              "        [0.93541273],\n",
              "        [0.93159806],\n",
              "        ...,\n",
              "        [0.70271979],\n",
              "        [0.68569446],\n",
              "        [0.69660795]],\n",
              "\n",
              "       [[0.93541273],\n",
              "        [0.93159806],\n",
              "        [0.90901234],\n",
              "        ...,\n",
              "        [0.68569446],\n",
              "        [0.69660795],\n",
              "        [0.68363701]]])"
            ]
          },
          "metadata": {},
          "execution_count": 25
        }
      ]
    },
    {
      "cell_type": "code",
      "source": [
        "predictions = model.predict(x_test)\n",
        "predictions\n",
        "\n"
      ],
      "metadata": {
        "colab": {
          "base_uri": "https://localhost:8080/"
        },
        "id": "J-rAH2dpem4N",
        "outputId": "51278465-84a9-4e57-fff1-5f2e6870264b"
      },
      "execution_count": null,
      "outputs": [
        {
          "output_type": "execute_result",
          "data": {
            "text/plain": [
              "array([[0.1643728 ],\n",
              "       [0.16790713],\n",
              "       [0.17244641],\n",
              "       [0.17673478],\n",
              "       [0.180642  ],\n",
              "       [0.18352076],\n",
              "       [0.18547499],\n",
              "       [0.18797833],\n",
              "       [0.18938191],\n",
              "       [0.19035518],\n",
              "       [0.19115168],\n",
              "       [0.1922471 ],\n",
              "       [0.19317633],\n",
              "       [0.19339345],\n",
              "       [0.19414702],\n",
              "       [0.19546895],\n",
              "       [0.20037265],\n",
              "       [0.20630915],\n",
              "       [0.21009058],\n",
              "       [0.21372993],\n",
              "       [0.21628535],\n",
              "       [0.21772327],\n",
              "       [0.21928936],\n",
              "       [0.22200304],\n",
              "       [0.2249226 ],\n",
              "       [0.22684121],\n",
              "       [0.22762495],\n",
              "       [0.22950606],\n",
              "       [0.23386529],\n",
              "       [0.2391607 ],\n",
              "       [0.24412154],\n",
              "       [0.25007528],\n",
              "       [0.25556698],\n",
              "       [0.25921592],\n",
              "       [0.26124382],\n",
              "       [0.26384884],\n",
              "       [0.26527578],\n",
              "       [0.26189008],\n",
              "       [0.2564364 ],\n",
              "       [0.25217786],\n",
              "       [0.25027108],\n",
              "       [0.2534612 ],\n",
              "       [0.25674522],\n",
              "       [0.26066113],\n",
              "       [0.26489863],\n",
              "       [0.2667799 ],\n",
              "       [0.26829576],\n",
              "       [0.2697875 ],\n",
              "       [0.27060425],\n",
              "       [0.26875377],\n",
              "       [0.26639652],\n",
              "       [0.26337105],\n",
              "       [0.25996202],\n",
              "       [0.258741  ],\n",
              "       [0.25966585],\n",
              "       [0.26185006],\n",
              "       [0.264812  ],\n",
              "       [0.27244872],\n",
              "       [0.28497317],\n",
              "       [0.29884458],\n",
              "       [0.31302917],\n",
              "       [0.32398525],\n",
              "       [0.3296815 ],\n",
              "       [0.33405015],\n",
              "       [0.33533305],\n",
              "       [0.33589026],\n",
              "       [0.33809078],\n",
              "       [0.34506345],\n",
              "       [0.3527158 ],\n",
              "       [0.36150017],\n",
              "       [0.3699829 ],\n",
              "       [0.38058934],\n",
              "       [0.39070812],\n",
              "       [0.39973003],\n",
              "       [0.41362736],\n",
              "       [0.42899573],\n",
              "       [0.4402405 ],\n",
              "       [0.45265016],\n",
              "       [0.47051242],\n",
              "       [0.4943285 ],\n",
              "       [0.5204306 ],\n",
              "       [0.5413726 ],\n",
              "       [0.55077404],\n",
              "       [0.54509634],\n",
              "       [0.5282298 ],\n",
              "       [0.51710796],\n",
              "       [0.51478857],\n",
              "       [0.5107168 ],\n",
              "       [0.50507367],\n",
              "       [0.49862537],\n",
              "       [0.495123  ],\n",
              "       [0.49218735],\n",
              "       [0.4888668 ],\n",
              "       [0.47372502],\n",
              "       [0.46151328],\n",
              "       [0.4501251 ],\n",
              "       [0.44193813],\n",
              "       [0.43714908],\n",
              "       [0.4356898 ],\n",
              "       [0.43087736],\n",
              "       [0.43353495],\n",
              "       [0.44164476],\n",
              "       [0.45123643],\n",
              "       [0.45715615],\n",
              "       [0.46152708],\n",
              "       [0.46946096],\n",
              "       [0.48275897],\n",
              "       [0.49485266],\n",
              "       [0.5075201 ],\n",
              "       [0.52098477],\n",
              "       [0.53126156],\n",
              "       [0.5574118 ],\n",
              "       [0.5866192 ],\n",
              "       [0.6079306 ],\n",
              "       [0.62950784],\n",
              "       [0.6453507 ],\n",
              "       [0.65403265],\n",
              "       [0.6614273 ],\n",
              "       [0.6639203 ],\n",
              "       [0.66653347],\n",
              "       [0.6759783 ],\n",
              "       [0.6850242 ],\n",
              "       [0.7035057 ],\n",
              "       [0.7229452 ],\n",
              "       [0.74311024],\n",
              "       [0.75047857],\n",
              "       [0.73609245],\n",
              "       [0.7164394 ],\n",
              "       [0.68977743],\n",
              "       [0.6623741 ],\n",
              "       [0.6388346 ],\n",
              "       [0.6185335 ],\n",
              "       [0.6157894 ],\n",
              "       [0.61864763],\n",
              "       [0.63048434],\n",
              "       [0.6395942 ],\n",
              "       [0.64752376],\n",
              "       [0.6535825 ],\n",
              "       [0.6639393 ],\n",
              "       [0.6770586 ],\n",
              "       [0.69606954],\n",
              "       [0.71735746],\n",
              "       [0.74056965],\n",
              "       [0.75876725],\n",
              "       [0.7816464 ],\n",
              "       [0.7962095 ],\n",
              "       [0.79494226],\n",
              "       [0.7887399 ],\n",
              "       [0.7858932 ],\n",
              "       [0.781524  ],\n",
              "       [0.77842647],\n",
              "       [0.7760651 ],\n",
              "       [0.7722259 ],\n",
              "       [0.7603753 ],\n",
              "       [0.7477879 ],\n",
              "       [0.7315997 ],\n",
              "       [0.7140087 ],\n",
              "       [0.70826775],\n",
              "       [0.71116567],\n",
              "       [0.7180421 ],\n",
              "       [0.7309517 ],\n",
              "       [0.74766874],\n",
              "       [0.76330477],\n",
              "       [0.7762184 ],\n",
              "       [0.7861846 ],\n",
              "       [0.78789437],\n",
              "       [0.7885166 ],\n",
              "       [0.788719  ],\n",
              "       [0.7860406 ],\n",
              "       [0.7766466 ],\n",
              "       [0.7719936 ],\n",
              "       [0.7695876 ],\n",
              "       [0.772898  ],\n",
              "       [0.779253  ],\n",
              "       [0.78514904],\n",
              "       [0.79964566],\n",
              "       [0.81391215],\n",
              "       [0.82620674],\n",
              "       [0.83050036],\n",
              "       [0.82794654],\n",
              "       [0.8104021 ],\n",
              "       [0.7880087 ],\n",
              "       [0.7688645 ],\n",
              "       [0.7474378 ],\n",
              "       [0.7234906 ],\n",
              "       [0.70121944],\n",
              "       [0.68118393],\n",
              "       [0.6634853 ],\n",
              "       [0.66411096],\n",
              "       [0.67613167],\n",
              "       [0.69173676],\n",
              "       [0.70359606],\n",
              "       [0.7234575 ],\n",
              "       [0.74329525],\n",
              "       [0.75646114],\n",
              "       [0.76570433],\n",
              "       [0.76055056],\n",
              "       [0.76074433],\n",
              "       [0.75945514],\n",
              "       [0.76027364],\n",
              "       [0.76548696],\n",
              "       [0.76997316],\n",
              "       [0.7669665 ],\n",
              "       [0.7634589 ],\n",
              "       [0.73964125],\n",
              "       [0.7129373 ],\n",
              "       [0.6894002 ],\n",
              "       [0.66309786],\n",
              "       [0.6399256 ],\n",
              "       [0.61483324],\n",
              "       [0.5923378 ],\n",
              "       [0.559887  ],\n",
              "       [0.5394066 ],\n",
              "       [0.5191379 ],\n",
              "       [0.5042818 ],\n",
              "       [0.4880374 ],\n",
              "       [0.48523504],\n",
              "       [0.48905063],\n",
              "       [0.49871218],\n",
              "       [0.50790524],\n",
              "       [0.5086071 ],\n",
              "       [0.5026287 ],\n",
              "       [0.49723697],\n",
              "       [0.49725726],\n",
              "       [0.49816653],\n",
              "       [0.5019167 ],\n",
              "       [0.51073515],\n",
              "       [0.51435226],\n",
              "       [0.51150995],\n",
              "       [0.50675   ],\n",
              "       [0.49556887],\n",
              "       [0.4829798 ],\n",
              "       [0.48184213],\n",
              "       [0.4845751 ],\n",
              "       [0.49076337],\n",
              "       [0.49302965],\n",
              "       [0.5025914 ],\n",
              "       [0.5167667 ],\n",
              "       [0.53131014],\n",
              "       [0.5380673 ],\n",
              "       [0.53911954],\n",
              "       [0.5308909 ],\n",
              "       [0.5189626 ],\n",
              "       [0.5071342 ],\n",
              "       [0.48662898],\n",
              "       [0.46781242],\n",
              "       [0.4560174 ],\n",
              "       [0.4522368 ],\n",
              "       [0.44548225],\n",
              "       [0.4404625 ],\n",
              "       [0.44375718],\n",
              "       [0.45018843],\n",
              "       [0.4612434 ],\n",
              "       [0.47069037],\n",
              "       [0.47412238],\n",
              "       [0.47494859],\n",
              "       [0.47619244],\n",
              "       [0.47887877],\n",
              "       [0.47766054],\n",
              "       [0.47606727],\n",
              "       [0.4733816 ],\n",
              "       [0.46800524],\n",
              "       [0.46462357],\n",
              "       [0.46193996],\n",
              "       [0.4620017 ],\n",
              "       [0.4605707 ],\n",
              "       [0.45762324],\n",
              "       [0.45478383],\n",
              "       [0.44976377],\n",
              "       [0.44369477],\n",
              "       [0.4384607 ],\n",
              "       [0.43525296],\n",
              "       [0.43113524],\n",
              "       [0.42483822],\n",
              "       [0.4246427 ],\n",
              "       [0.4279761 ],\n",
              "       [0.436021  ],\n",
              "       [0.4470047 ],\n",
              "       [0.46046868],\n",
              "       [0.4781002 ],\n",
              "       [0.5001146 ],\n",
              "       [0.52188003],\n",
              "       [0.53961724],\n",
              "       [0.5579249 ],\n",
              "       [0.5710509 ],\n",
              "       [0.57458353],\n",
              "       [0.5703712 ],\n",
              "       [0.5597677 ],\n",
              "       [0.5516512 ],\n",
              "       [0.5485474 ],\n",
              "       [0.55336666],\n",
              "       [0.5657105 ],\n",
              "       [0.57752764],\n",
              "       [0.5940874 ],\n",
              "       [0.6076262 ],\n",
              "       [0.6173765 ],\n",
              "       [0.6202032 ],\n",
              "       [0.62801766],\n",
              "       [0.63424355],\n",
              "       [0.6384044 ],\n",
              "       [0.6377941 ],\n",
              "       [0.63134223],\n",
              "       [0.6233397 ],\n",
              "       [0.6208219 ],\n",
              "       [0.6280908 ],\n",
              "       [0.6374561 ],\n",
              "       [0.6475643 ],\n",
              "       [0.65684193],\n",
              "       [0.6590584 ],\n",
              "       [0.66095984],\n",
              "       [0.656521  ],\n",
              "       [0.6555885 ],\n",
              "       [0.6555894 ],\n",
              "       [0.65584785],\n",
              "       [0.6514044 ],\n",
              "       [0.6459654 ],\n",
              "       [0.64537746],\n",
              "       [0.6483052 ],\n",
              "       [0.6543664 ],\n",
              "       [0.6606897 ],\n",
              "       [0.67099494],\n",
              "       [0.6835393 ],\n",
              "       [0.67916286],\n",
              "       [0.66622776],\n",
              "       [0.65186834],\n",
              "       [0.6349481 ],\n",
              "       [0.62069535],\n",
              "       [0.61248505],\n",
              "       [0.6058015 ],\n",
              "       [0.6071861 ],\n",
              "       [0.615208  ],\n",
              "       [0.62427825],\n",
              "       [0.63126165],\n",
              "       [0.63893396],\n",
              "       [0.6427384 ],\n",
              "       [0.63228124],\n",
              "       [0.61142856],\n",
              "       [0.59671676],\n",
              "       [0.59048325],\n",
              "       [0.5840265 ],\n",
              "       [0.5788096 ],\n",
              "       [0.57662034],\n",
              "       [0.5738608 ],\n",
              "       [0.56845295],\n",
              "       [0.5643858 ],\n",
              "       [0.5676585 ],\n",
              "       [0.58548224],\n",
              "       [0.60607654],\n",
              "       [0.6261285 ],\n",
              "       [0.6448286 ],\n",
              "       [0.66578263],\n",
              "       [0.69393575],\n",
              "       [0.71550494],\n",
              "       [0.73040044],\n",
              "       [0.74149376],\n",
              "       [0.7474169 ],\n",
              "       [0.7565378 ],\n",
              "       [0.7606122 ],\n",
              "       [0.76503366],\n",
              "       [0.76788986],\n",
              "       [0.7806668 ],\n",
              "       [0.7929376 ],\n",
              "       [0.80456746],\n",
              "       [0.81469375],\n",
              "       [0.8279351 ],\n",
              "       [0.8442011 ],\n",
              "       [0.8481834 ],\n",
              "       [0.84204614],\n",
              "       [0.8338638 ],\n",
              "       [0.8242897 ],\n",
              "       [0.8212333 ],\n",
              "       [0.8140826 ],\n",
              "       [0.80178964],\n",
              "       [0.7952649 ],\n",
              "       [0.79653454],\n",
              "       [0.8003144 ],\n",
              "       [0.80344987],\n",
              "       [0.80517334],\n",
              "       [0.8120511 ],\n",
              "       [0.8190869 ],\n",
              "       [0.8210159 ],\n",
              "       [0.8195848 ],\n",
              "       [0.8178178 ],\n",
              "       [0.82084495],\n",
              "       [0.83663875],\n",
              "       [0.8532848 ],\n",
              "       [0.8622841 ],\n",
              "       [0.8662407 ],\n",
              "       [0.86466503],\n",
              "       [0.8614429 ],\n",
              "       [0.8603158 ],\n",
              "       [0.85484654],\n",
              "       [0.83949244],\n",
              "       [0.82324576],\n",
              "       [0.79999965],\n",
              "       [0.7813009 ],\n",
              "       [0.77207345],\n",
              "       [0.7664573 ],\n",
              "       [0.7576921 ],\n",
              "       [0.7532597 ],\n",
              "       [0.748289  ],\n",
              "       [0.7472239 ],\n",
              "       [0.7383796 ],\n",
              "       [0.7316546 ],\n",
              "       [0.7335734 ],\n",
              "       [0.7406764 ],\n",
              "       [0.7471309 ],\n",
              "       [0.7531361 ],\n",
              "       [0.75588214],\n",
              "       [0.7489634 ],\n",
              "       [0.7272276 ],\n",
              "       [0.70313096],\n",
              "       [0.6850035 ],\n",
              "       [0.6730716 ],\n",
              "       [0.6660069 ],\n",
              "       [0.6553939 ],\n",
              "       [0.6445858 ],\n",
              "       [0.6415648 ],\n",
              "       [0.6448705 ],\n",
              "       [0.6420203 ],\n",
              "       [0.6372003 ],\n",
              "       [0.63852537],\n",
              "       [0.6391479 ],\n",
              "       [0.63582534],\n",
              "       [0.63320965],\n",
              "       [0.63095194],\n",
              "       [0.6298338 ],\n",
              "       [0.63504547],\n",
              "       [0.6414318 ],\n",
              "       [0.65328056],\n",
              "       [0.66556615],\n",
              "       [0.67489415],\n",
              "       [0.6821327 ],\n",
              "       [0.6863618 ],\n",
              "       [0.679967  ],\n",
              "       [0.6666644 ],\n",
              "       [0.6540716 ],\n",
              "       [0.6413035 ]], dtype=float32)"
            ]
          },
          "metadata": {},
          "execution_count": 26
        }
      ]
    },
    {
      "cell_type": "code",
      "source": [
        "predictions = scaler.inverse_transform(predictions)\n",
        "predictions"
      ],
      "metadata": {
        "colab": {
          "base_uri": "https://localhost:8080/"
        },
        "id": "dbAhC12yiIC9",
        "outputId": "2c813bd5-a7cc-44aa-c626-8f2ab43fd85d"
      },
      "execution_count": null,
      "outputs": [
        {
          "output_type": "execute_result",
          "data": {
            "text/plain": [
              "array([[11410.594],\n",
              "       [11648.109],\n",
              "       [11953.16 ],\n",
              "       [12241.349],\n",
              "       [12503.924],\n",
              "       [12697.384],\n",
              "       [12828.713],\n",
              "       [12996.943],\n",
              "       [13091.268],\n",
              "       [13156.674],\n",
              "       [13210.201],\n",
              "       [13283.815],\n",
              "       [13346.263],\n",
              "       [13360.854],\n",
              "       [13411.495],\n",
              "       [13500.332],\n",
              "       [13829.873],\n",
              "       [14228.821],\n",
              "       [14482.942],\n",
              "       [14727.516],\n",
              "       [14899.246],\n",
              "       [14995.878],\n",
              "       [15101.123],\n",
              "       [15283.489],\n",
              "       [15479.69 ],\n",
              "       [15608.627],\n",
              "       [15661.296],\n",
              "       [15787.711],\n",
              "       [16080.662],\n",
              "       [16436.527],\n",
              "       [16769.908],\n",
              "       [17170.016],\n",
              "       [17539.07 ],\n",
              "       [17784.29 ],\n",
              "       [17920.568],\n",
              "       [18095.633],\n",
              "       [18191.525],\n",
              "       [17964.   ],\n",
              "       [17597.498],\n",
              "       [17311.314],\n",
              "       [17183.174],\n",
              "       [17397.559],\n",
              "       [17618.252],\n",
              "       [17881.41 ],\n",
              "       [18166.182],\n",
              "       [18292.607],\n",
              "       [18394.477],\n",
              "       [18494.725],\n",
              "       [18549.613],\n",
              "       [18425.256],\n",
              "       [18266.844],\n",
              "       [18063.523],\n",
              "       [17834.428],\n",
              "       [17752.373],\n",
              "       [17814.525],\n",
              "       [17961.309],\n",
              "       [18160.36 ],\n",
              "       [18673.566],\n",
              "       [19515.24 ],\n",
              "       [20447.434],\n",
              "       [21400.674],\n",
              "       [22136.95 ],\n",
              "       [22519.75 ],\n",
              "       [22813.336],\n",
              "       [22899.55 ],\n",
              "       [22936.996],\n",
              "       [23084.877],\n",
              "       [23553.457],\n",
              "       [24067.713],\n",
              "       [24658.047],\n",
              "       [25228.105],\n",
              "       [25940.885],\n",
              "       [26620.893],\n",
              "       [27227.188],\n",
              "       [28161.123],\n",
              "       [29193.916],\n",
              "       [29949.592],\n",
              "       [30783.553],\n",
              "       [31983.941],\n",
              "       [33584.44 ],\n",
              "       [35338.57 ],\n",
              "       [36745.92 ],\n",
              "       [37377.723],\n",
              "       [36996.168],\n",
              "       [35862.69 ],\n",
              "       [35115.277],\n",
              "       [34959.41 ],\n",
              "       [34685.777],\n",
              "       [34306.543],\n",
              "       [33873.2  ],\n",
              "       [33637.832],\n",
              "       [33440.55 ],\n",
              "       [33217.402],\n",
              "       [32199.836],\n",
              "       [31379.176],\n",
              "       [30613.861],\n",
              "       [30063.678],\n",
              "       [29741.842],\n",
              "       [29643.775],\n",
              "       [29320.365],\n",
              "       [29498.963],\n",
              "       [30043.963],\n",
              "       [30688.547],\n",
              "       [31086.367],\n",
              "       [31380.104],\n",
              "       [31913.281],\n",
              "       [32806.94 ],\n",
              "       [33619.668],\n",
              "       [34470.95 ],\n",
              "       [35375.81 ],\n",
              "       [36066.434],\n",
              "       [37823.797],\n",
              "       [39786.605],\n",
              "       [41218.785],\n",
              "       [42668.832],\n",
              "       [43733.51 ],\n",
              "       [44316.957],\n",
              "       [44813.9  ],\n",
              "       [44981.434],\n",
              "       [45157.047],\n",
              "       [45791.76 ],\n",
              "       [46399.668],\n",
              "       [47641.67 ],\n",
              "       [48948.055],\n",
              "       [50303.195],\n",
              "       [50798.367],\n",
              "       [49831.582],\n",
              "       [48510.85 ],\n",
              "       [46719.098],\n",
              "       [44877.523],\n",
              "       [43295.613],\n",
              "       [41931.33 ],\n",
              "       [41746.918],\n",
              "       [41938.996],\n",
              "       [42734.453],\n",
              "       [43346.66 ],\n",
              "       [43879.547],\n",
              "       [44286.707],\n",
              "       [44982.71 ],\n",
              "       [45864.36 ],\n",
              "       [47141.94 ],\n",
              "       [48572.543],\n",
              "       [50132.46 ],\n",
              "       [51355.387],\n",
              "       [52892.918],\n",
              "       [53871.598],\n",
              "       [53786.438],\n",
              "       [53369.625],\n",
              "       [53178.316],\n",
              "       [52884.695],\n",
              "       [52676.535],\n",
              "       [52517.844],\n",
              "       [52259.84 ],\n",
              "       [51463.453],\n",
              "       [50617.547],\n",
              "       [49529.656],\n",
              "       [48347.5  ],\n",
              "       [47961.69 ],\n",
              "       [48156.44 ],\n",
              "       [48618.55 ],\n",
              "       [49486.113],\n",
              "       [50609.54 ],\n",
              "       [51660.316],\n",
              "       [52528.15 ],\n",
              "       [53197.902],\n",
              "       [53312.8  ],\n",
              "       [53354.613],\n",
              "       [53368.22 ],\n",
              "       [53188.223],\n",
              "       [52556.92 ],\n",
              "       [52244.227],\n",
              "       [52082.54 ],\n",
              "       [52305.008],\n",
              "       [52732.08 ],\n",
              "       [53128.31 ],\n",
              "       [54102.516],\n",
              "       [55061.26 ],\n",
              "       [55887.49 ],\n",
              "       [56176.03 ],\n",
              "       [56004.406],\n",
              "       [54825.375],\n",
              "       [53320.484],\n",
              "       [52033.945],\n",
              "       [50594.016],\n",
              "       [48984.707],\n",
              "       [47488.027],\n",
              "       [46141.594],\n",
              "       [44952.2  ],\n",
              "       [44994.246],\n",
              "       [45802.066],\n",
              "       [46850.77 ],\n",
              "       [47647.742],\n",
              "       [48982.484],\n",
              "       [50315.63 ],\n",
              "       [51200.41 ],\n",
              "       [51821.574],\n",
              "       [51475.227],\n",
              "       [51488.25 ],\n",
              "       [51401.613],\n",
              "       [51456.617],\n",
              "       [51806.965],\n",
              "       [52108.45 ],\n",
              "       [51906.4  ],\n",
              "       [51670.676],\n",
              "       [50070.07 ],\n",
              "       [48275.5  ],\n",
              "       [46693.746],\n",
              "       [44926.164],\n",
              "       [43368.93 ],\n",
              "       [41682.66 ],\n",
              "       [40170.91 ],\n",
              "       [37990.137],\n",
              "       [36613.8  ],\n",
              "       [35251.695],\n",
              "       [34253.33 ],\n",
              "       [33161.664],\n",
              "       [32973.336],\n",
              "       [33229.754],\n",
              "       [33879.035],\n",
              "       [34496.832],\n",
              "       [34544.   ],\n",
              "       [34142.234],\n",
              "       [33779.9  ],\n",
              "       [33781.258],\n",
              "       [33842.363],\n",
              "       [34094.387],\n",
              "       [34687.008],\n",
              "       [34930.09 ],\n",
              "       [34739.08 ],\n",
              "       [34419.195],\n",
              "       [33667.797],\n",
              "       [32821.78 ],\n",
              "       [32745.326],\n",
              "       [32928.99 ],\n",
              "       [33344.855],\n",
              "       [33497.156],\n",
              "       [34139.727],\n",
              "       [35092.348],\n",
              "       [36069.7  ],\n",
              "       [36523.797],\n",
              "       [36594.51 ],\n",
              "       [36041.523],\n",
              "       [35239.914],\n",
              "       [34445.016],\n",
              "       [33067.016],\n",
              "       [31802.494],\n",
              "       [31009.84 ],\n",
              "       [30755.773],\n",
              "       [30301.852],\n",
              "       [29964.512],\n",
              "       [30185.922],\n",
              "       [30618.12 ],\n",
              "       [31361.04 ],\n",
              "       [31995.9  ],\n",
              "       [32226.54 ],\n",
              "       [32282.062],\n",
              "       [32365.652],\n",
              "       [32546.18 ],\n",
              "       [32464.312],\n",
              "       [32357.242],\n",
              "       [32176.758],\n",
              "       [31815.453],\n",
              "       [31588.195],\n",
              "       [31407.85 ],\n",
              "       [31412.   ],\n",
              "       [31315.832],\n",
              "       [31117.756],\n",
              "       [30926.941],\n",
              "       [30589.58 ],\n",
              "       [30181.729],\n",
              "       [29829.986],\n",
              "       [29614.418],\n",
              "       [29337.695],\n",
              "       [28914.521],\n",
              "       [28901.383],\n",
              "       [29125.395],\n",
              "       [29666.031],\n",
              "       [30404.164],\n",
              "       [31308.977],\n",
              "       [32493.86 ],\n",
              "       [33973.28 ],\n",
              "       [35435.973],\n",
              "       [36627.957],\n",
              "       [37858.28 ],\n",
              "       [38740.375],\n",
              "       [38977.78 ],\n",
              "       [38694.703],\n",
              "       [37982.12 ],\n",
              "       [37436.668],\n",
              "       [37228.086],\n",
              "       [37551.953],\n",
              "       [38381.49 ],\n",
              "       [39175.633],\n",
              "       [40288.49 ],\n",
              "       [41198.33 ],\n",
              "       [41853.574],\n",
              "       [42043.535],\n",
              "       [42568.688],\n",
              "       [42987.082],\n",
              "       [43266.703],\n",
              "       [43225.688],\n",
              "       [42792.105],\n",
              "       [42254.316],\n",
              "       [42085.113],\n",
              "       [42573.6  ],\n",
              "       [43202.977],\n",
              "       [43882.27 ],\n",
              "       [44505.75 ],\n",
              "       [44654.703],\n",
              "       [44782.484],\n",
              "       [44484.184],\n",
              "       [44421.516],\n",
              "       [44421.58 ],\n",
              "       [44438.945],\n",
              "       [44140.332],\n",
              "       [43774.82 ],\n",
              "       [43735.31 ],\n",
              "       [43932.06 ],\n",
              "       [44339.387],\n",
              "       [44764.33 ],\n",
              "       [45456.867],\n",
              "       [46299.88 ],\n",
              "       [46005.773],\n",
              "       [45136.5  ],\n",
              "       [44171.51 ],\n",
              "       [43034.43 ],\n",
              "       [42076.61 ],\n",
              "       [41524.855],\n",
              "       [41075.707],\n",
              "       [41168.754],\n",
              "       [41707.848],\n",
              "       [42317.39 ],\n",
              "       [42786.69 ],\n",
              "       [43302.29 ],\n",
              "       [43557.957],\n",
              "       [42855.21 ],\n",
              "       [41453.86 ],\n",
              "       [40465.188],\n",
              "       [40046.28 ],\n",
              "       [39612.37 ],\n",
              "       [39261.785],\n",
              "       [39114.66 ],\n",
              "       [38929.21 ],\n",
              "       [38565.79 ],\n",
              "       [38292.465],\n",
              "       [38512.4  ],\n",
              "       [39710.2  ],\n",
              "       [41094.188],\n",
              "       [42441.73 ],\n",
              "       [43698.426],\n",
              "       [45106.586],\n",
              "       [46998.547],\n",
              "       [48448.05 ],\n",
              "       [49449.066],\n",
              "       [50194.562],\n",
              "       [50592.613],\n",
              "       [51205.562],\n",
              "       [51479.37 ],\n",
              "       [51776.504],\n",
              "       [51968.45 ],\n",
              "       [52827.094],\n",
              "       [53651.72 ],\n",
              "       [54433.273],\n",
              "       [55113.785],\n",
              "       [56003.637],\n",
              "       [57096.754],\n",
              "       [57364.375],\n",
              "       [56951.934],\n",
              "       [56402.062],\n",
              "       [55758.656],\n",
              "       [55553.258],\n",
              "       [55072.715],\n",
              "       [54246.598],\n",
              "       [53808.117],\n",
              "       [53893.44 ],\n",
              "       [54147.46 ],\n",
              "       [54358.168],\n",
              "       [54473.992],\n",
              "       [54936.195],\n",
              "       [55409.016],\n",
              "       [55538.65 ],\n",
              "       [55442.477],\n",
              "       [55323.73 ],\n",
              "       [55527.16 ],\n",
              "       [56588.543],\n",
              "       [57707.2  ],\n",
              "       [58311.977],\n",
              "       [58577.867],\n",
              "       [58471.98 ],\n",
              "       [58255.445],\n",
              "       [58179.703],\n",
              "       [57812.152],\n",
              "       [56780.32 ],\n",
              "       [55688.504],\n",
              "       [54126.305],\n",
              "       [52869.703],\n",
              "       [52249.594],\n",
              "       [51872.176],\n",
              "       [51283.133],\n",
              "       [50985.266],\n",
              "       [50651.22 ],\n",
              "       [50579.645],\n",
              "       [49985.285],\n",
              "       [49533.348],\n",
              "       [49662.293],\n",
              "       [50139.637],\n",
              "       [50573.39 ],\n",
              "       [50976.957],\n",
              "       [51161.5  ],\n",
              "       [50696.543],\n",
              "       [49235.844],\n",
              "       [47616.49 ],\n",
              "       [46398.277],\n",
              "       [45596.426],\n",
              "       [45121.66 ],\n",
              "       [44408.438],\n",
              "       [43682.105],\n",
              "       [43479.086],\n",
              "       [43701.242],\n",
              "       [43509.7  ],\n",
              "       [43185.78 ],\n",
              "       [43274.832],\n",
              "       [43316.664],\n",
              "       [43093.383],\n",
              "       [42917.6  ],\n",
              "       [42765.88 ],\n",
              "       [42690.74 ],\n",
              "       [43040.973],\n",
              "       [43470.152],\n",
              "       [44266.418],\n",
              "       [45092.04 ],\n",
              "       [45718.902],\n",
              "       [46205.355],\n",
              "       [46489.56 ],\n",
              "       [46059.812],\n",
              "       [45165.844],\n",
              "       [44319.58 ],\n",
              "       [43461.527]], dtype=float32)"
            ]
          },
          "metadata": {},
          "execution_count": 27
        }
      ]
    },
    {
      "cell_type": "code",
      "source": [
        "rmse = np.sqrt( np.mean( predictions - y_test)**2)\n",
        "rmse"
      ],
      "metadata": {
        "colab": {
          "base_uri": "https://localhost:8080/"
        },
        "id": "fB7DY7HzcBoI",
        "outputId": "cb058f6c-bf24-4b44-e1ff-a08d6650f4a8"
      },
      "execution_count": null,
      "outputs": [
        {
          "output_type": "execute_result",
          "data": {
            "text/plain": [
              "3793.439787659389"
            ]
          },
          "metadata": {},
          "execution_count": 28
        }
      ]
    },
    {
      "cell_type": "markdown",
      "source": [
        "**Plot the graph**"
      ],
      "metadata": {
        "id": "sJfSPsFefDp2"
      }
    },
    {
      "cell_type": "code",
      "source": [
        "trai = train[:training_data_len]\n",
        "trai"
      ],
      "metadata": {
        "colab": {
          "base_uri": "https://localhost:8080/",
          "height": 423
        },
        "id": "4xP7qKd5bKHy",
        "outputId": "43d3e5bd-89f5-4d60-c1bc-820381a64d05"
      },
      "execution_count": null,
      "outputs": [
        {
          "output_type": "execute_result",
          "data": {
            "text/html": [
              "\n",
              "  <div id=\"df-9bd70357-c136-45af-b17a-9fe579e67fb6\">\n",
              "    <div class=\"colab-df-container\">\n",
              "      <div>\n",
              "<style scoped>\n",
              "    .dataframe tbody tr th:only-of-type {\n",
              "        vertical-align: middle;\n",
              "    }\n",
              "\n",
              "    .dataframe tbody tr th {\n",
              "        vertical-align: top;\n",
              "    }\n",
              "\n",
              "    .dataframe thead th {\n",
              "        text-align: right;\n",
              "    }\n",
              "</style>\n",
              "<table border=\"1\" class=\"dataframe\">\n",
              "  <thead>\n",
              "    <tr style=\"text-align: right;\">\n",
              "      <th></th>\n",
              "      <th>Close</th>\n",
              "    </tr>\n",
              "  </thead>\n",
              "  <tbody>\n",
              "    <tr>\n",
              "      <th>0</th>\n",
              "      <td>434.334015</td>\n",
              "    </tr>\n",
              "    <tr>\n",
              "      <th>1</th>\n",
              "      <td>433.437988</td>\n",
              "    </tr>\n",
              "    <tr>\n",
              "      <th>2</th>\n",
              "      <td>430.010986</td>\n",
              "    </tr>\n",
              "    <tr>\n",
              "      <th>3</th>\n",
              "      <td>433.091003</td>\n",
              "    </tr>\n",
              "    <tr>\n",
              "      <th>4</th>\n",
              "      <td>431.959991</td>\n",
              "    </tr>\n",
              "    <tr>\n",
              "      <th>...</th>\n",
              "      <td>...</td>\n",
              "    </tr>\n",
              "    <tr>\n",
              "      <th>1750</th>\n",
              "      <td>11322.123047</td>\n",
              "    </tr>\n",
              "    <tr>\n",
              "      <th>1751</th>\n",
              "      <td>11358.101563</td>\n",
              "    </tr>\n",
              "    <tr>\n",
              "      <th>1752</th>\n",
              "      <td>11483.359375</td>\n",
              "    </tr>\n",
              "    <tr>\n",
              "      <th>1753</th>\n",
              "      <td>11742.037109</td>\n",
              "    </tr>\n",
              "    <tr>\n",
              "      <th>1754</th>\n",
              "      <td>11916.334961</td>\n",
              "    </tr>\n",
              "  </tbody>\n",
              "</table>\n",
              "<p>1755 rows × 1 columns</p>\n",
              "</div>\n",
              "      <button class=\"colab-df-convert\" onclick=\"convertToInteractive('df-9bd70357-c136-45af-b17a-9fe579e67fb6')\"\n",
              "              title=\"Convert this dataframe to an interactive table.\"\n",
              "              style=\"display:none;\">\n",
              "        \n",
              "  <svg xmlns=\"http://www.w3.org/2000/svg\" height=\"24px\"viewBox=\"0 0 24 24\"\n",
              "       width=\"24px\">\n",
              "    <path d=\"M0 0h24v24H0V0z\" fill=\"none\"/>\n",
              "    <path d=\"M18.56 5.44l.94 2.06.94-2.06 2.06-.94-2.06-.94-.94-2.06-.94 2.06-2.06.94zm-11 1L8.5 8.5l.94-2.06 2.06-.94-2.06-.94L8.5 2.5l-.94 2.06-2.06.94zm10 10l.94 2.06.94-2.06 2.06-.94-2.06-.94-.94-2.06-.94 2.06-2.06.94z\"/><path d=\"M17.41 7.96l-1.37-1.37c-.4-.4-.92-.59-1.43-.59-.52 0-1.04.2-1.43.59L10.3 9.45l-7.72 7.72c-.78.78-.78 2.05 0 2.83L4 21.41c.39.39.9.59 1.41.59.51 0 1.02-.2 1.41-.59l7.78-7.78 2.81-2.81c.8-.78.8-2.07 0-2.86zM5.41 20L4 18.59l7.72-7.72 1.47 1.35L5.41 20z\"/>\n",
              "  </svg>\n",
              "      </button>\n",
              "      \n",
              "  <style>\n",
              "    .colab-df-container {\n",
              "      display:flex;\n",
              "      flex-wrap:wrap;\n",
              "      gap: 12px;\n",
              "    }\n",
              "\n",
              "    .colab-df-convert {\n",
              "      background-color: #E8F0FE;\n",
              "      border: none;\n",
              "      border-radius: 50%;\n",
              "      cursor: pointer;\n",
              "      display: none;\n",
              "      fill: #1967D2;\n",
              "      height: 32px;\n",
              "      padding: 0 0 0 0;\n",
              "      width: 32px;\n",
              "    }\n",
              "\n",
              "    .colab-df-convert:hover {\n",
              "      background-color: #E2EBFA;\n",
              "      box-shadow: 0px 1px 2px rgba(60, 64, 67, 0.3), 0px 1px 3px 1px rgba(60, 64, 67, 0.15);\n",
              "      fill: #174EA6;\n",
              "    }\n",
              "\n",
              "    [theme=dark] .colab-df-convert {\n",
              "      background-color: #3B4455;\n",
              "      fill: #D2E3FC;\n",
              "    }\n",
              "\n",
              "    [theme=dark] .colab-df-convert:hover {\n",
              "      background-color: #434B5C;\n",
              "      box-shadow: 0px 1px 3px 1px rgba(0, 0, 0, 0.15);\n",
              "      filter: drop-shadow(0px 1px 2px rgba(0, 0, 0, 0.3));\n",
              "      fill: #FFFFFF;\n",
              "    }\n",
              "  </style>\n",
              "\n",
              "      <script>\n",
              "        const buttonEl =\n",
              "          document.querySelector('#df-9bd70357-c136-45af-b17a-9fe579e67fb6 button.colab-df-convert');\n",
              "        buttonEl.style.display =\n",
              "          google.colab.kernel.accessAllowed ? 'block' : 'none';\n",
              "\n",
              "        async function convertToInteractive(key) {\n",
              "          const element = document.querySelector('#df-9bd70357-c136-45af-b17a-9fe579e67fb6');\n",
              "          const dataTable =\n",
              "            await google.colab.kernel.invokeFunction('convertToInteractive',\n",
              "                                                     [key], {});\n",
              "          if (!dataTable) return;\n",
              "\n",
              "          const docLinkHtml = 'Like what you see? Visit the ' +\n",
              "            '<a target=\"_blank\" href=https://colab.research.google.com/notebooks/data_table.ipynb>data table notebook</a>'\n",
              "            + ' to learn more about interactive tables.';\n",
              "          element.innerHTML = '';\n",
              "          dataTable['output_type'] = 'display_data';\n",
              "          await google.colab.output.renderOutput(dataTable, element);\n",
              "          const docLink = document.createElement('div');\n",
              "          docLink.innerHTML = docLinkHtml;\n",
              "          element.appendChild(docLink);\n",
              "        }\n",
              "      </script>\n",
              "    </div>\n",
              "  </div>\n",
              "  "
            ],
            "text/plain": [
              "             Close\n",
              "0       434.334015\n",
              "1       433.437988\n",
              "2       430.010986\n",
              "3       433.091003\n",
              "4       431.959991\n",
              "...            ...\n",
              "1750  11322.123047\n",
              "1751  11358.101563\n",
              "1752  11483.359375\n",
              "1753  11742.037109\n",
              "1754  11916.334961\n",
              "\n",
              "[1755 rows x 1 columns]"
            ]
          },
          "metadata": {},
          "execution_count": 33
        }
      ]
    },
    {
      "cell_type": "code",
      "source": [
        "\n",
        "val = train[training_data_len:]\n",
        "val"
      ],
      "metadata": {
        "colab": {
          "base_uri": "https://localhost:8080/",
          "height": 423
        },
        "id": "IWZgvbuafHTy",
        "outputId": "03ba0dd2-6dd4-4675-aa81-5899d7ace7c1"
      },
      "execution_count": null,
      "outputs": [
        {
          "output_type": "execute_result",
          "data": {
            "text/html": [
              "\n",
              "  <div id=\"df-345abb8d-9ebb-443a-8b50-4fefef3c4882\">\n",
              "    <div class=\"colab-df-container\">\n",
              "      <div>\n",
              "<style scoped>\n",
              "    .dataframe tbody tr th:only-of-type {\n",
              "        vertical-align: middle;\n",
              "    }\n",
              "\n",
              "    .dataframe tbody tr th {\n",
              "        vertical-align: top;\n",
              "    }\n",
              "\n",
              "    .dataframe thead th {\n",
              "        text-align: right;\n",
              "    }\n",
              "</style>\n",
              "<table border=\"1\" class=\"dataframe\">\n",
              "  <thead>\n",
              "    <tr style=\"text-align: right;\">\n",
              "      <th></th>\n",
              "      <th>Close</th>\n",
              "    </tr>\n",
              "  </thead>\n",
              "  <tbody>\n",
              "    <tr>\n",
              "      <th>1755</th>\n",
              "      <td>12823.689453</td>\n",
              "    </tr>\n",
              "    <tr>\n",
              "      <th>1756</th>\n",
              "      <td>12965.891602</td>\n",
              "    </tr>\n",
              "    <tr>\n",
              "      <th>1757</th>\n",
              "      <td>12931.539063</td>\n",
              "    </tr>\n",
              "    <tr>\n",
              "      <th>1758</th>\n",
              "      <td>13108.062500</td>\n",
              "    </tr>\n",
              "    <tr>\n",
              "      <th>1759</th>\n",
              "      <td>13031.173828</td>\n",
              "    </tr>\n",
              "    <tr>\n",
              "      <th>...</th>\n",
              "      <td>...</td>\n",
              "    </tr>\n",
              "    <tr>\n",
              "      <th>2188</th>\n",
              "      <td>47588.855469</td>\n",
              "    </tr>\n",
              "    <tr>\n",
              "      <th>2189</th>\n",
              "      <td>46444.710938</td>\n",
              "    </tr>\n",
              "    <tr>\n",
              "      <th>2190</th>\n",
              "      <td>47178.125000</td>\n",
              "    </tr>\n",
              "    <tr>\n",
              "      <th>2191</th>\n",
              "      <td>46306.445313</td>\n",
              "    </tr>\n",
              "    <tr>\n",
              "      <th>2192</th>\n",
              "      <td>47686.812500</td>\n",
              "    </tr>\n",
              "  </tbody>\n",
              "</table>\n",
              "<p>438 rows × 1 columns</p>\n",
              "</div>\n",
              "      <button class=\"colab-df-convert\" onclick=\"convertToInteractive('df-345abb8d-9ebb-443a-8b50-4fefef3c4882')\"\n",
              "              title=\"Convert this dataframe to an interactive table.\"\n",
              "              style=\"display:none;\">\n",
              "        \n",
              "  <svg xmlns=\"http://www.w3.org/2000/svg\" height=\"24px\"viewBox=\"0 0 24 24\"\n",
              "       width=\"24px\">\n",
              "    <path d=\"M0 0h24v24H0V0z\" fill=\"none\"/>\n",
              "    <path d=\"M18.56 5.44l.94 2.06.94-2.06 2.06-.94-2.06-.94-.94-2.06-.94 2.06-2.06.94zm-11 1L8.5 8.5l.94-2.06 2.06-.94-2.06-.94L8.5 2.5l-.94 2.06-2.06.94zm10 10l.94 2.06.94-2.06 2.06-.94-2.06-.94-.94-2.06-.94 2.06-2.06.94z\"/><path d=\"M17.41 7.96l-1.37-1.37c-.4-.4-.92-.59-1.43-.59-.52 0-1.04.2-1.43.59L10.3 9.45l-7.72 7.72c-.78.78-.78 2.05 0 2.83L4 21.41c.39.39.9.59 1.41.59.51 0 1.02-.2 1.41-.59l7.78-7.78 2.81-2.81c.8-.78.8-2.07 0-2.86zM5.41 20L4 18.59l7.72-7.72 1.47 1.35L5.41 20z\"/>\n",
              "  </svg>\n",
              "      </button>\n",
              "      \n",
              "  <style>\n",
              "    .colab-df-container {\n",
              "      display:flex;\n",
              "      flex-wrap:wrap;\n",
              "      gap: 12px;\n",
              "    }\n",
              "\n",
              "    .colab-df-convert {\n",
              "      background-color: #E8F0FE;\n",
              "      border: none;\n",
              "      border-radius: 50%;\n",
              "      cursor: pointer;\n",
              "      display: none;\n",
              "      fill: #1967D2;\n",
              "      height: 32px;\n",
              "      padding: 0 0 0 0;\n",
              "      width: 32px;\n",
              "    }\n",
              "\n",
              "    .colab-df-convert:hover {\n",
              "      background-color: #E2EBFA;\n",
              "      box-shadow: 0px 1px 2px rgba(60, 64, 67, 0.3), 0px 1px 3px 1px rgba(60, 64, 67, 0.15);\n",
              "      fill: #174EA6;\n",
              "    }\n",
              "\n",
              "    [theme=dark] .colab-df-convert {\n",
              "      background-color: #3B4455;\n",
              "      fill: #D2E3FC;\n",
              "    }\n",
              "\n",
              "    [theme=dark] .colab-df-convert:hover {\n",
              "      background-color: #434B5C;\n",
              "      box-shadow: 0px 1px 3px 1px rgba(0, 0, 0, 0.15);\n",
              "      filter: drop-shadow(0px 1px 2px rgba(0, 0, 0, 0.3));\n",
              "      fill: #FFFFFF;\n",
              "    }\n",
              "  </style>\n",
              "\n",
              "      <script>\n",
              "        const buttonEl =\n",
              "          document.querySelector('#df-345abb8d-9ebb-443a-8b50-4fefef3c4882 button.colab-df-convert');\n",
              "        buttonEl.style.display =\n",
              "          google.colab.kernel.accessAllowed ? 'block' : 'none';\n",
              "\n",
              "        async function convertToInteractive(key) {\n",
              "          const element = document.querySelector('#df-345abb8d-9ebb-443a-8b50-4fefef3c4882');\n",
              "          const dataTable =\n",
              "            await google.colab.kernel.invokeFunction('convertToInteractive',\n",
              "                                                     [key], {});\n",
              "          if (!dataTable) return;\n",
              "\n",
              "          const docLinkHtml = 'Like what you see? Visit the ' +\n",
              "            '<a target=\"_blank\" href=https://colab.research.google.com/notebooks/data_table.ipynb>data table notebook</a>'\n",
              "            + ' to learn more about interactive tables.';\n",
              "          element.innerHTML = '';\n",
              "          dataTable['output_type'] = 'display_data';\n",
              "          await google.colab.output.renderOutput(dataTable, element);\n",
              "          const docLink = document.createElement('div');\n",
              "          docLink.innerHTML = docLinkHtml;\n",
              "          element.appendChild(docLink);\n",
              "        }\n",
              "      </script>\n",
              "    </div>\n",
              "  </div>\n",
              "  "
            ],
            "text/plain": [
              "             Close\n",
              "1755  12823.689453\n",
              "1756  12965.891602\n",
              "1757  12931.539063\n",
              "1758  13108.062500\n",
              "1759  13031.173828\n",
              "...            ...\n",
              "2188  47588.855469\n",
              "2189  46444.710938\n",
              "2190  47178.125000\n",
              "2191  46306.445313\n",
              "2192  47686.812500\n",
              "\n",
              "[438 rows x 1 columns]"
            ]
          },
          "metadata": {},
          "execution_count": 29
        }
      ]
    },
    {
      "cell_type": "code",
      "source": [
        "val['Predictions'] = predictions"
      ],
      "metadata": {
        "id": "WAcL1OfUfHMt",
        "colab": {
          "base_uri": "https://localhost:8080/"
        },
        "outputId": "427c3203-1c4c-42c6-c6ba-bb1d8fd76484"
      },
      "execution_count": null,
      "outputs": [
        {
          "output_type": "stream",
          "name": "stderr",
          "text": [
            "/usr/local/lib/python3.7/dist-packages/ipykernel_launcher.py:1: SettingWithCopyWarning: \n",
            "A value is trying to be set on a copy of a slice from a DataFrame.\n",
            "Try using .loc[row_indexer,col_indexer] = value instead\n",
            "\n",
            "See the caveats in the documentation: https://pandas.pydata.org/pandas-docs/stable/user_guide/indexing.html#returning-a-view-versus-a-copy\n",
            "  \"\"\"Entry point for launching an IPython kernel.\n"
          ]
        }
      ]
    },
    {
      "cell_type": "markdown",
      "source": [
        "**Plot the graph**"
      ],
      "metadata": {
        "id": "jrtfYbAjbmpg"
      }
    },
    {
      "cell_type": "code",
      "source": [
        "plt.figure(figsize=(16,8))\n",
        "plt.title('LSTM Model Data')\n",
        "plt.xlabel('Date', fontsize=16)\n",
        "plt.ylabel('Close Price', fontsize=16)\n",
        "plt.plot(train['Close'])\n",
        "plt.plot(val[['Close', 'Predictions']])\n",
        "plt.legend(['Trained Dataset', 'Actual Value', 'Predictions'])\n",
        "plt.show()"
      ],
      "metadata": {
        "colab": {
          "base_uri": "https://localhost:8080/",
          "height": 344
        },
        "id": "amGcgqkEa6kr",
        "outputId": "bc0d4b74-5c59-42f2-f289-53cbe1d8d54d"
      },
      "execution_count": null,
      "outputs": [
        {
          "output_type": "display_data",
          "data": {
            "image/png": "[encoded data removed]",
            "text/plain": [
              "<Figure size 1152x576 with 1 Axes>"
            ]
          },
          "metadata": {}
        }
      ]
    },
    {
      "cell_type": "code",
      "source": [
        "val.head(10)"
      ],
      "metadata": {
        "colab": {
          "base_uri": "https://localhost:8080/",
          "height": 363
        },
        "id": "Ki0rOMjXbrdT",
        "outputId": "a1187ed7-f558-4396-f54f-89c255b70746"
      },
      "execution_count": null,
      "outputs": [
        {
          "output_type": "execute_result",
          "data": {
            "text/html": [
              "\n",
              "  <div id=\"df-c34b89bb-a313-444f-bc13-917963ba9988\">\n",
              "    <div class=\"colab-df-container\">\n",
              "      <div>\n",
              "<style scoped>\n",
              "    .dataframe tbody tr th:only-of-type {\n",
              "        vertical-align: middle;\n",
              "    }\n",
              "\n",
              "    .dataframe tbody tr th {\n",
              "        vertical-align: top;\n",
              "    }\n",
              "\n",
              "    .dataframe thead th {\n",
              "        text-align: right;\n",
              "    }\n",
              "</style>\n",
              "<table border=\"1\" class=\"dataframe\">\n",
              "  <thead>\n",
              "    <tr style=\"text-align: right;\">\n",
              "      <th></th>\n",
              "      <th>Close</th>\n",
              "      <th>Predictions</th>\n",
              "    </tr>\n",
              "  </thead>\n",
              "  <tbody>\n",
              "    <tr>\n",
              "      <th>1755</th>\n",
              "      <td>12823.689453</td>\n",
              "      <td>11410.593750</td>\n",
              "    </tr>\n",
              "    <tr>\n",
              "      <th>1756</th>\n",
              "      <td>12965.891602</td>\n",
              "      <td>11648.109375</td>\n",
              "    </tr>\n",
              "    <tr>\n",
              "      <th>1757</th>\n",
              "      <td>12931.539063</td>\n",
              "      <td>11953.160156</td>\n",
              "    </tr>\n",
              "    <tr>\n",
              "      <th>1758</th>\n",
              "      <td>13108.062500</td>\n",
              "      <td>12241.348633</td>\n",
              "    </tr>\n",
              "    <tr>\n",
              "      <th>1759</th>\n",
              "      <td>13031.173828</td>\n",
              "      <td>12503.923828</td>\n",
              "    </tr>\n",
              "    <tr>\n",
              "      <th>1760</th>\n",
              "      <td>13075.248047</td>\n",
              "      <td>12697.383789</td>\n",
              "    </tr>\n",
              "    <tr>\n",
              "      <th>1761</th>\n",
              "      <td>13654.218750</td>\n",
              "      <td>12828.712891</td>\n",
              "    </tr>\n",
              "    <tr>\n",
              "      <th>1762</th>\n",
              "      <td>13271.285156</td>\n",
              "      <td>12996.943359</td>\n",
              "    </tr>\n",
              "    <tr>\n",
              "      <th>1763</th>\n",
              "      <td>13437.882813</td>\n",
              "      <td>13091.267578</td>\n",
              "    </tr>\n",
              "    <tr>\n",
              "      <th>1764</th>\n",
              "      <td>13546.522461</td>\n",
              "      <td>13156.673828</td>\n",
              "    </tr>\n",
              "  </tbody>\n",
              "</table>\n",
              "</div>\n",
              "      <button class=\"colab-df-convert\" onclick=\"convertToInteractive('df-c34b89bb-a313-444f-bc13-917963ba9988')\"\n",
              "              title=\"Convert this dataframe to an interactive table.\"\n",
              "              style=\"display:none;\">\n",
              "        \n",
              "  <svg xmlns=\"http://www.w3.org/2000/svg\" height=\"24px\"viewBox=\"0 0 24 24\"\n",
              "       width=\"24px\">\n",
              "    <path d=\"M0 0h24v24H0V0z\" fill=\"none\"/>\n",
              "    <path d=\"M18.56 5.44l.94 2.06.94-2.06 2.06-.94-2.06-.94-.94-2.06-.94 2.06-2.06.94zm-11 1L8.5 8.5l.94-2.06 2.06-.94-2.06-.94L8.5 2.5l-.94 2.06-2.06.94zm10 10l.94 2.06.94-2.06 2.06-.94-2.06-.94-.94-2.06-.94 2.06-2.06.94z\"/><path d=\"M17.41 7.96l-1.37-1.37c-.4-.4-.92-.59-1.43-.59-.52 0-1.04.2-1.43.59L10.3 9.45l-7.72 7.72c-.78.78-.78 2.05 0 2.83L4 21.41c.39.39.9.59 1.41.59.51 0 1.02-.2 1.41-.59l7.78-7.78 2.81-2.81c.8-.78.8-2.07 0-2.86zM5.41 20L4 18.59l7.72-7.72 1.47 1.35L5.41 20z\"/>\n",
              "  </svg>\n",
              "      </button>\n",
              "      \n",
              "  <style>\n",
              "    .colab-df-container {\n",
              "      display:flex;\n",
              "      flex-wrap:wrap;\n",
              "      gap: 12px;\n",
              "    }\n",
              "\n",
              "    .colab-df-convert {\n",
              "      background-color: #E8F0FE;\n",
              "      border: none;\n",
              "      border-radius: 50%;\n",
              "      cursor: pointer;\n",
              "      display: none;\n",
              "      fill: #1967D2;\n",
              "      height: 32px;\n",
              "      padding: 0 0 0 0;\n",
              "      width: 32px;\n",
              "    }\n",
              "\n",
              "    .colab-df-convert:hover {\n",
              "      background-color: #E2EBFA;\n",
              "      box-shadow: 0px 1px 2px rgba(60, 64, 67, 0.3), 0px 1px 3px 1px rgba(60, 64, 67, 0.15);\n",
              "      fill: #174EA6;\n",
              "    }\n",
              "\n",
              "    [theme=dark] .colab-df-convert {\n",
              "      background-color: #3B4455;\n",
              "      fill: #D2E3FC;\n",
              "    }\n",
              "\n",
              "    [theme=dark] .colab-df-convert:hover {\n",
              "      background-color: #434B5C;\n",
              "      box-shadow: 0px 1px 3px 1px rgba(0, 0, 0, 0.15);\n",
              "      filter: drop-shadow(0px 1px 2px rgba(0, 0, 0, 0.3));\n",
              "      fill: #FFFFFF;\n",
              "    }\n",
              "  </style>\n",
              "\n",
              "      <script>\n",
              "        const buttonEl =\n",
              "          document.querySelector('#df-c34b89bb-a313-444f-bc13-917963ba9988 button.colab-df-convert');\n",
              "        buttonEl.style.display =\n",
              "          google.colab.kernel.accessAllowed ? 'block' : 'none';\n",
              "\n",
              "        async function convertToInteractive(key) {\n",
              "          const element = document.querySelector('#df-c34b89bb-a313-444f-bc13-917963ba9988');\n",
              "          const dataTable =\n",
              "            await google.colab.kernel.invokeFunction('convertToInteractive',\n",
              "                                                     [key], {});\n",
              "          if (!dataTable) return;\n",
              "\n",
              "          const docLinkHtml = 'Like what you see? Visit the ' +\n",
              "            '<a target=\"_blank\" href=https://colab.research.google.com/notebooks/data_table.ipynb>data table notebook</a>'\n",
              "            + ' to learn more about interactive tables.';\n",
              "          element.innerHTML = '';\n",
              "          dataTable['output_type'] = 'display_data';\n",
              "          await google.colab.output.renderOutput(dataTable, element);\n",
              "          const docLink = document.createElement('div');\n",
              "          docLink.innerHTML = docLinkHtml;\n",
              "          element.appendChild(docLink);\n",
              "        }\n",
              "      </script>\n",
              "    </div>\n",
              "  </div>\n",
              "  "
            ],
            "text/plain": [
              "             Close   Predictions\n",
              "1755  12823.689453  11410.593750\n",
              "1756  12965.891602  11648.109375\n",
              "1757  12931.539063  11953.160156\n",
              "1758  13108.062500  12241.348633\n",
              "1759  13031.173828  12503.923828\n",
              "1760  13075.248047  12697.383789\n",
              "1761  13654.218750  12828.712891\n",
              "1762  13271.285156  12996.943359\n",
              "1763  13437.882813  13091.267578\n",
              "1764  13546.522461  13156.673828"
            ]
          },
          "metadata": {},
          "execution_count": 35
        }
      ]
    },
    {
      "cell_type": "code",
      "source": [
        "\n",
        "new_train_data = pd.read_csv('/content/BTC-USD Training Data - 1st Jan 2016 to 1st Jan 2022.csv')\n",
        "new_train_data = train.filter(['Close'])\n",
        "last_60_days = new_train_data[-60:].values\n",
        "last_60_scaled = scaler.transform(last_60_days)\n",
        "X_test = []\n",
        "X_test.append(last_60_scaled)\n",
        "X_test = np.array(X_test)\n",
        "X_test = np.reshape(X_test, (X_test.shape[0], X_test.shape[1], 1))\n",
        "predicted_price = model.predict(X_test)\n",
        "predicted_price = scaler.inverse_transform(predicted_price)\n",
        "print('The predicted price of the final value of the dataset', predicted_price)"
      ],
      "metadata": {
        "colab": {
          "base_uri": "https://localhost:8080/"
        },
        "id": "1KdOMBuIbrWN",
        "outputId": "d2759693-e47a-48fa-fd46-8db4fa47c08e"
      },
      "execution_count": null,
      "outputs": [
        {
          "output_type": "stream",
          "name": "stdout",
          "text": [
            "The predicted price of the final value of the dataset [[43000.37]]\n"
          ]
        }
      ]
    },
    {
      "cell_type": "code",
      "source": [
        "new_train_data.tail(1)"
      ],
      "metadata": {
        "colab": {
          "base_uri": "https://localhost:8080/",
          "height": 80
        },
        "id": "L_Wzr-_1brOY",
        "outputId": "77ccc89b-1abc-4c00-edaa-0492f7c6f9cf"
      },
      "execution_count": null,
      "outputs": [
        {
          "output_type": "execute_result",
          "data": {
            "text/html": [
              "\n",
              "  <div id=\"df-5e9a5b47-b357-44e7-b5f3-7aeaba63489e\">\n",
              "    <div class=\"colab-df-container\">\n",
              "      <div>\n",
              "<style scoped>\n",
              "    .dataframe tbody tr th:only-of-type {\n",
              "        vertical-align: middle;\n",
              "    }\n",
              "\n",
              "    .dataframe tbody tr th {\n",
              "        vertical-align: top;\n",
              "    }\n",
              "\n",
              "    .dataframe thead th {\n",
              "        text-align: right;\n",
              "    }\n",
              "</style>\n",
              "<table border=\"1\" class=\"dataframe\">\n",
              "  <thead>\n",
              "    <tr style=\"text-align: right;\">\n",
              "      <th></th>\n",
              "      <th>Close</th>\n",
              "    </tr>\n",
              "  </thead>\n",
              "  <tbody>\n",
              "    <tr>\n",
              "      <th>2192</th>\n",
              "      <td>47686.8125</td>\n",
              "    </tr>\n",
              "  </tbody>\n",
              "</table>\n",
              "</div>\n",
              "      <button class=\"colab-df-convert\" onclick=\"convertToInteractive('df-5e9a5b47-b357-44e7-b5f3-7aeaba63489e')\"\n",
              "              title=\"Convert this dataframe to an interactive table.\"\n",
              "              style=\"display:none;\">\n",
              "        \n",
              "  <svg xmlns=\"http://www.w3.org/2000/svg\" height=\"24px\"viewBox=\"0 0 24 24\"\n",
              "       width=\"24px\">\n",
              "    <path d=\"M0 0h24v24H0V0z\" fill=\"none\"/>\n",
              "    <path d=\"M18.56 5.44l.94 2.06.94-2.06 2.06-.94-2.06-.94-.94-2.06-.94 2.06-2.06.94zm-11 1L8.5 8.5l.94-2.06 2.06-.94-2.06-.94L8.5 2.5l-.94 2.06-2.06.94zm10 10l.94 2.06.94-2.06 2.06-.94-2.06-.94-.94-2.06-.94 2.06-2.06.94z\"/><path d=\"M17.41 7.96l-1.37-1.37c-.4-.4-.92-.59-1.43-.59-.52 0-1.04.2-1.43.59L10.3 9.45l-7.72 7.72c-.78.78-.78 2.05 0 2.83L4 21.41c.39.39.9.59 1.41.59.51 0 1.02-.2 1.41-.59l7.78-7.78 2.81-2.81c.8-.78.8-2.07 0-2.86zM5.41 20L4 18.59l7.72-7.72 1.47 1.35L5.41 20z\"/>\n",
              "  </svg>\n",
              "      </button>\n",
              "      \n",
              "  <style>\n",
              "    .colab-df-container {\n",
              "      display:flex;\n",
              "      flex-wrap:wrap;\n",
              "      gap: 12px;\n",
              "    }\n",
              "\n",
              "    .colab-df-convert {\n",
              "      background-color: #E8F0FE;\n",
              "      border: none;\n",
              "      border-radius: 50%;\n",
              "      cursor: pointer;\n",
              "      display: none;\n",
              "      fill: #1967D2;\n",
              "      height: 32px;\n",
              "      padding: 0 0 0 0;\n",
              "      width: 32px;\n",
              "    }\n",
              "\n",
              "    .colab-df-convert:hover {\n",
              "      background-color: #E2EBFA;\n",
              "      box-shadow: 0px 1px 2px rgba(60, 64, 67, 0.3), 0px 1px 3px 1px rgba(60, 64, 67, 0.15);\n",
              "      fill: #174EA6;\n",
              "    }\n",
              "\n",
              "    [theme=dark] .colab-df-convert {\n",
              "      background-color: #3B4455;\n",
              "      fill: #D2E3FC;\n",
              "    }\n",
              "\n",
              "    [theme=dark] .colab-df-convert:hover {\n",
              "      background-color: #434B5C;\n",
              "      box-shadow: 0px 1px 3px 1px rgba(0, 0, 0, 0.15);\n",
              "      filter: drop-shadow(0px 1px 2px rgba(0, 0, 0, 0.3));\n",
              "      fill: #FFFFFF;\n",
              "    }\n",
              "  </style>\n",
              "\n",
              "      <script>\n",
              "        const buttonEl =\n",
              "          document.querySelector('#df-5e9a5b47-b357-44e7-b5f3-7aeaba63489e button.colab-df-convert');\n",
              "        buttonEl.style.display =\n",
              "          google.colab.kernel.accessAllowed ? 'block' : 'none';\n",
              "\n",
              "        async function convertToInteractive(key) {\n",
              "          const element = document.querySelector('#df-5e9a5b47-b357-44e7-b5f3-7aeaba63489e');\n",
              "          const dataTable =\n",
              "            await google.colab.kernel.invokeFunction('convertToInteractive',\n",
              "                                                     [key], {});\n",
              "          if (!dataTable) return;\n",
              "\n",
              "          const docLinkHtml = 'Like what you see? Visit the ' +\n",
              "            '<a target=\"_blank\" href=https://colab.research.google.com/notebooks/data_table.ipynb>data table notebook</a>'\n",
              "            + ' to learn more about interactive tables.';\n",
              "          element.innerHTML = '';\n",
              "          dataTable['output_type'] = 'display_data';\n",
              "          await google.colab.output.renderOutput(dataTable, element);\n",
              "          const docLink = document.createElement('div');\n",
              "          docLink.innerHTML = docLinkHtml;\n",
              "          element.appendChild(docLink);\n",
              "        }\n",
              "      </script>\n",
              "    </div>\n",
              "  </div>\n",
              "  "
            ],
            "text/plain": [
              "           Close\n",
              "2192  47686.8125"
            ]
          },
          "metadata": {},
          "execution_count": 40
        }
      ]
    },
    {
      "cell_type": "code",
      "source": [
        "#check predicted values\n",
        "predictions = model.predict(x_test) \n",
        "#Undo scaling\n",
        "predictions = scaler.inverse_transform(predictions)\n",
        "\n",
        "#Calculate RMSE score\n",
        "rmse=np.sqrt(np.mean(((predictions- y_test)**2)))\n",
        "rmse\n",
        "\n"
      ],
      "metadata": {
        "colab": {
          "base_uri": "https://localhost:8080/"
        },
        "id": "9wxRnFsfhHry",
        "outputId": "4ff0e318-f131-4357-e31c-5a9d6f6cac5c"
      },
      "execution_count": null,
      "outputs": [
        {
          "output_type": "execute_result",
          "data": {
            "text/plain": [
              "4741.512567361083"
            ]
          },
          "metadata": {},
          "execution_count": 45
        }
      ]
    },
    {
      "cell_type": "code",
      "source": [
        "val.describe()"
      ],
      "metadata": {
        "colab": {
          "base_uri": "https://localhost:8080/",
          "height": 300
        },
        "id": "RyYDloHAiJtg",
        "outputId": "e7255860-e5dd-40ca-8fe2-920cf3a52303"
      },
      "execution_count": null,
      "outputs": [
        {
          "output_type": "execute_result",
          "data": {
            "text/html": [
              "\n",
              "  <div id=\"df-84257135-8b1d-4596-8765-8bac1acbf0f0\">\n",
              "    <div class=\"colab-df-container\">\n",
              "      <div>\n",
              "<style scoped>\n",
              "    .dataframe tbody tr th:only-of-type {\n",
              "        vertical-align: middle;\n",
              "    }\n",
              "\n",
              "    .dataframe tbody tr th {\n",
              "        vertical-align: top;\n",
              "    }\n",
              "\n",
              "    .dataframe thead th {\n",
              "        text-align: right;\n",
              "    }\n",
              "</style>\n",
              "<table border=\"1\" class=\"dataframe\">\n",
              "  <thead>\n",
              "    <tr style=\"text-align: right;\">\n",
              "      <th></th>\n",
              "      <th>Close</th>\n",
              "      <th>Predictions</th>\n",
              "    </tr>\n",
              "  </thead>\n",
              "  <tbody>\n",
              "    <tr>\n",
              "      <th>count</th>\n",
              "      <td>438.000000</td>\n",
              "      <td>438.000000</td>\n",
              "    </tr>\n",
              "    <tr>\n",
              "      <th>mean</th>\n",
              "      <td>42668.135802</td>\n",
              "      <td>38874.699219</td>\n",
              "    </tr>\n",
              "    <tr>\n",
              "      <th>std</th>\n",
              "      <td>14089.116097</td>\n",
              "      <td>12381.202148</td>\n",
              "    </tr>\n",
              "    <tr>\n",
              "      <th>min</th>\n",
              "      <td>12823.689453</td>\n",
              "      <td>11410.593750</td>\n",
              "    </tr>\n",
              "    <tr>\n",
              "      <th>25%</th>\n",
              "      <td>33812.340821</td>\n",
              "      <td>31387.040039</td>\n",
              "    </tr>\n",
              "    <tr>\n",
              "      <th>50%</th>\n",
              "      <td>46192.458985</td>\n",
              "      <td>41935.162109</td>\n",
              "    </tr>\n",
              "    <tr>\n",
              "      <th>75%</th>\n",
              "      <td>54763.419922</td>\n",
              "      <td>49395.760742</td>\n",
              "    </tr>\n",
              "    <tr>\n",
              "      <th>max</th>\n",
              "      <td>67566.828125</td>\n",
              "      <td>58577.867188</td>\n",
              "    </tr>\n",
              "  </tbody>\n",
              "</table>\n",
              "</div>\n",
              "      <button class=\"colab-df-convert\" onclick=\"convertToInteractive('df-84257135-8b1d-4596-8765-8bac1acbf0f0')\"\n",
              "              title=\"Convert this dataframe to an interactive table.\"\n",
              "              style=\"display:none;\">\n",
              "        \n",
              "  <svg xmlns=\"http://www.w3.org/2000/svg\" height=\"24px\"viewBox=\"0 0 24 24\"\n",
              "       width=\"24px\">\n",
              "    <path d=\"M0 0h24v24H0V0z\" fill=\"none\"/>\n",
              "    <path d=\"M18.56 5.44l.94 2.06.94-2.06 2.06-.94-2.06-.94-.94-2.06-.94 2.06-2.06.94zm-11 1L8.5 8.5l.94-2.06 2.06-.94-2.06-.94L8.5 2.5l-.94 2.06-2.06.94zm10 10l.94 2.06.94-2.06 2.06-.94-2.06-.94-.94-2.06-.94 2.06-2.06.94z\"/><path d=\"M17.41 7.96l-1.37-1.37c-.4-.4-.92-.59-1.43-.59-.52 0-1.04.2-1.43.59L10.3 9.45l-7.72 7.72c-.78.78-.78 2.05 0 2.83L4 21.41c.39.39.9.59 1.41.59.51 0 1.02-.2 1.41-.59l7.78-7.78 2.81-2.81c.8-.78.8-2.07 0-2.86zM5.41 20L4 18.59l7.72-7.72 1.47 1.35L5.41 20z\"/>\n",
              "  </svg>\n",
              "      </button>\n",
              "      \n",
              "  <style>\n",
              "    .colab-df-container {\n",
              "      display:flex;\n",
              "      flex-wrap:wrap;\n",
              "      gap: 12px;\n",
              "    }\n",
              "\n",
              "    .colab-df-convert {\n",
              "      background-color: #E8F0FE;\n",
              "      border: none;\n",
              "      border-radius: 50%;\n",
              "      cursor: pointer;\n",
              "      display: none;\n",
              "      fill: #1967D2;\n",
              "      height: 32px;\n",
              "      padding: 0 0 0 0;\n",
              "      width: 32px;\n",
              "    }\n",
              "\n",
              "    .colab-df-convert:hover {\n",
              "      background-color: #E2EBFA;\n",
              "      box-shadow: 0px 1px 2px rgba(60, 64, 67, 0.3), 0px 1px 3px 1px rgba(60, 64, 67, 0.15);\n",
              "      fill: #174EA6;\n",
              "    }\n",
              "\n",
              "    [theme=dark] .colab-df-convert {\n",
              "      background-color: #3B4455;\n",
              "      fill: #D2E3FC;\n",
              "    }\n",
              "\n",
              "    [theme=dark] .colab-df-convert:hover {\n",
              "      background-color: #434B5C;\n",
              "      box-shadow: 0px 1px 3px 1px rgba(0, 0, 0, 0.15);\n",
              "      filter: drop-shadow(0px 1px 2px rgba(0, 0, 0, 0.3));\n",
              "      fill: #FFFFFF;\n",
              "    }\n",
              "  </style>\n",
              "\n",
              "      <script>\n",
              "        const buttonEl =\n",
              "          document.querySelector('#df-84257135-8b1d-4596-8765-8bac1acbf0f0 button.colab-df-convert');\n",
              "        buttonEl.style.display =\n",
              "          google.colab.kernel.accessAllowed ? 'block' : 'none';\n",
              "\n",
              "        async function convertToInteractive(key) {\n",
              "          const element = document.querySelector('#df-84257135-8b1d-4596-8765-8bac1acbf0f0');\n",
              "          const dataTable =\n",
              "            await google.colab.kernel.invokeFunction('convertToInteractive',\n",
              "                                                     [key], {});\n",
              "          if (!dataTable) return;\n",
              "\n",
              "          const docLinkHtml = 'Like what you see? Visit the ' +\n",
              "            '<a target=\"_blank\" href=https://colab.research.google.com/notebooks/data_table.ipynb>data table notebook</a>'\n",
              "            + ' to learn more about interactive tables.';\n",
              "          element.innerHTML = '';\n",
              "          dataTable['output_type'] = 'display_data';\n",
              "          await google.colab.output.renderOutput(dataTable, element);\n",
              "          const docLink = document.createElement('div');\n",
              "          docLink.innerHTML = docLinkHtml;\n",
              "          element.appendChild(docLink);\n",
              "        }\n",
              "      </script>\n",
              "    </div>\n",
              "  </div>\n",
              "  "
            ],
            "text/plain": [
              "              Close   Predictions\n",
              "count    438.000000    438.000000\n",
              "mean   42668.135802  38874.699219\n",
              "std    14089.116097  12381.202148\n",
              "min    12823.689453  11410.593750\n",
              "25%    33812.340821  31387.040039\n",
              "50%    46192.458985  41935.162109\n",
              "75%    54763.419922  49395.760742\n",
              "max    67566.828125  58577.867188"
            ]
          },
          "metadata": {},
          "execution_count": 46
        }
      ]
    },
    {
      "cell_type": "code",
      "source": [
        "x = val.Close.mean()\n",
        "y = val.Predictions.mean()\n",
        "Accuracy = x/y*100\n",
        "print(\"The accuracy of the model is \" , Accuracy)"
      ],
      "metadata": {
        "colab": {
          "base_uri": "https://localhost:8080/"
        },
        "id": "U1IPilRpiJpo",
        "outputId": "1bf0058f-c81b-4b0c-bcfb-bc4e58f1c88c"
      },
      "execution_count": null,
      "outputs": [
        {
          "output_type": "stream",
          "name": "stdout",
          "text": [
            "The accuracy of the model is  109.7581117281083\n"
          ]
        }
      ]
    },
    {
      "cell_type": "markdown",
      "source": [
        "**Regression Model**"
      ],
      "metadata": {
        "id": "-4UAZ4xFitdl"
      }
    },
    {
      "cell_type": "code",
      "source": [
        "from sklearn import metrics\n",
        "%matplotlib inline\n",
        "import matplotlib.pyplot as plt\n",
        "import math"
      ],
      "metadata": {
        "id": "MuaYwzU6ivnH"
      },
      "execution_count": null,
      "outputs": []
    },
    {
      "cell_type": "code",
      "source": [
        "train = pd.read_csv('/content/BTC-USD Training Data - 1st Jan 2016 to 1st Jan 2022.csv')"
      ],
      "metadata": {
        "id": "SCILpM6OiJmT"
      },
      "execution_count": null,
      "outputs": []
    },
    {
      "cell_type": "code",
      "source": [
        "plt.scatter(train.Date, train.Close,  color='blue')\n",
        "plt.xlabel(\"Time\")\n",
        "plt.ylabel(\"Close\")\n",
        "plt.show()"
      ],
      "metadata": {
        "colab": {
          "base_uri": "https://localhost:8080/",
          "height": 280
        },
        "id": "8_BwXzDQjeVP",
        "outputId": "d5940340-dc14-4893-a931-d4db539ea44e"
      },
      "execution_count": null,
      "outputs": [
        {
          "output_type": "display_data",
          "data": {
            "image/png": "[encoded data removed]",
            "text/plain": [
              "<Figure size 432x288 with 1 Axes>"
            ]
          },
          "metadata": {
            "needs_background": "light"
          }
        }
      ]
    },
    {
      "cell_type": "code",
      "source": [
        "dataset.shape"
      ],
      "metadata": {
        "colab": {
          "base_uri": "https://localhost:8080/"
        },
        "id": "KqnnWVxrjd--",
        "outputId": "19e7d7e5-2b86-4ce1-aa31-edd4ffb96805"
      },
      "execution_count": null,
      "outputs": [
        {
          "output_type": "execute_result",
          "data": {
            "text/plain": [
              "(2193, 1)"
            ]
          },
          "metadata": {},
          "execution_count": 54
        }
      ]
    },
    {
      "cell_type": "code",
      "source": [
        "train['Date'] = pd.to_datetime(train.Date)"
      ],
      "metadata": {
        "id": "8YvS6OeOkGfj"
      },
      "execution_count": null,
      "outputs": []
    },
    {
      "cell_type": "code",
      "source": [
        "train.head()"
      ],
      "metadata": {
        "colab": {
          "base_uri": "https://localhost:8080/",
          "height": 250
        },
        "id": "3KWePV56kGdW",
        "outputId": "db7dbf39-ac93-48b0-8f55-eccb5db40afb"
      },
      "execution_count": null,
      "outputs": [
        {
          "output_type": "execute_result",
          "data": {
            "text/html": [
              "\n",
              "  <div id=\"df-97fb5b50-6f83-43eb-ba5e-eb083add6673\">\n",
              "    <div class=\"colab-df-container\">\n",
              "      <div>\n",
              "<style scoped>\n",
              "    .dataframe tbody tr th:only-of-type {\n",
              "        vertical-align: middle;\n",
              "    }\n",
              "\n",
              "    .dataframe tbody tr th {\n",
              "        vertical-align: top;\n",
              "    }\n",
              "\n",
              "    .dataframe thead th {\n",
              "        text-align: right;\n",
              "    }\n",
              "</style>\n",
              "<table border=\"1\" class=\"dataframe\">\n",
              "  <thead>\n",
              "    <tr style=\"text-align: right;\">\n",
              "      <th></th>\n",
              "      <th>Date</th>\n",
              "      <th>Open</th>\n",
              "      <th>High</th>\n",
              "      <th>Low</th>\n",
              "      <th>Close</th>\n",
              "      <th>Adj Close</th>\n",
              "      <th>Volume</th>\n",
              "    </tr>\n",
              "  </thead>\n",
              "  <tbody>\n",
              "    <tr>\n",
              "      <th>0</th>\n",
              "      <td>2016-01-01</td>\n",
              "      <td>430.721008</td>\n",
              "      <td>436.246002</td>\n",
              "      <td>427.515015</td>\n",
              "      <td>434.334015</td>\n",
              "      <td>434.334015</td>\n",
              "      <td>36278900</td>\n",
              "    </tr>\n",
              "    <tr>\n",
              "      <th>1</th>\n",
              "      <td>2016-01-02</td>\n",
              "      <td>434.622009</td>\n",
              "      <td>436.062012</td>\n",
              "      <td>431.869995</td>\n",
              "      <td>433.437988</td>\n",
              "      <td>433.437988</td>\n",
              "      <td>30096600</td>\n",
              "    </tr>\n",
              "    <tr>\n",
              "      <th>2</th>\n",
              "      <td>2016-01-03</td>\n",
              "      <td>433.578003</td>\n",
              "      <td>433.743011</td>\n",
              "      <td>424.705994</td>\n",
              "      <td>430.010986</td>\n",
              "      <td>430.010986</td>\n",
              "      <td>39633800</td>\n",
              "    </tr>\n",
              "    <tr>\n",
              "      <th>3</th>\n",
              "      <td>2016-01-04</td>\n",
              "      <td>430.061005</td>\n",
              "      <td>434.516998</td>\n",
              "      <td>429.084015</td>\n",
              "      <td>433.091003</td>\n",
              "      <td>433.091003</td>\n",
              "      <td>38477500</td>\n",
              "    </tr>\n",
              "    <tr>\n",
              "      <th>4</th>\n",
              "      <td>2016-01-05</td>\n",
              "      <td>433.069000</td>\n",
              "      <td>434.182007</td>\n",
              "      <td>429.675995</td>\n",
              "      <td>431.959991</td>\n",
              "      <td>431.959991</td>\n",
              "      <td>34522600</td>\n",
              "    </tr>\n",
              "  </tbody>\n",
              "</table>\n",
              "</div>\n",
              "      <button class=\"colab-df-convert\" onclick=\"convertToInteractive('df-97fb5b50-6f83-43eb-ba5e-eb083add6673')\"\n",
              "              title=\"Convert this dataframe to an interactive table.\"\n",
              "              style=\"display:none;\">\n",
              "        \n",
              "  <svg xmlns=\"http://www.w3.org/2000/svg\" height=\"24px\"viewBox=\"0 0 24 24\"\n",
              "       width=\"24px\">\n",
              "    <path d=\"M0 0h24v24H0V0z\" fill=\"none\"/>\n",
              "    <path d=\"M18.56 5.44l.94 2.06.94-2.06 2.06-.94-2.06-.94-.94-2.06-.94 2.06-2.06.94zm-11 1L8.5 8.5l.94-2.06 2.06-.94-2.06-.94L8.5 2.5l-.94 2.06-2.06.94zm10 10l.94 2.06.94-2.06 2.06-.94-2.06-.94-.94-2.06-.94 2.06-2.06.94z\"/><path d=\"M17.41 7.96l-1.37-1.37c-.4-.4-.92-.59-1.43-.59-.52 0-1.04.2-1.43.59L10.3 9.45l-7.72 7.72c-.78.78-.78 2.05 0 2.83L4 21.41c.39.39.9.59 1.41.59.51 0 1.02-.2 1.41-.59l7.78-7.78 2.81-2.81c.8-.78.8-2.07 0-2.86zM5.41 20L4 18.59l7.72-7.72 1.47 1.35L5.41 20z\"/>\n",
              "  </svg>\n",
              "      </button>\n",
              "      \n",
              "  <style>\n",
              "    .colab-df-container {\n",
              "      display:flex;\n",
              "      flex-wrap:wrap;\n",
              "      gap: 12px;\n",
              "    }\n",
              "\n",
              "    .colab-df-convert {\n",
              "      background-color: #E8F0FE;\n",
              "      border: none;\n",
              "      border-radius: 50%;\n",
              "      cursor: pointer;\n",
              "      display: none;\n",
              "      fill: #1967D2;\n",
              "      height: 32px;\n",
              "      padding: 0 0 0 0;\n",
              "      width: 32px;\n",
              "    }\n",
              "\n",
              "    .colab-df-convert:hover {\n",
              "      background-color: #E2EBFA;\n",
              "      box-shadow: 0px 1px 2px rgba(60, 64, 67, 0.3), 0px 1px 3px 1px rgba(60, 64, 67, 0.15);\n",
              "      fill: #174EA6;\n",
              "    }\n",
              "\n",
              "    [theme=dark] .colab-df-convert {\n",
              "      background-color: #3B4455;\n",
              "      fill: #D2E3FC;\n",
              "    }\n",
              "\n",
              "    [theme=dark] .colab-df-convert:hover {\n",
              "      background-color: #434B5C;\n",
              "      box-shadow: 0px 1px 3px 1px rgba(0, 0, 0, 0.15);\n",
              "      filter: drop-shadow(0px 1px 2px rgba(0, 0, 0, 0.3));\n",
              "      fill: #FFFFFF;\n",
              "    }\n",
              "  </style>\n",
              "\n",
              "      <script>\n",
              "        const buttonEl =\n",
              "          document.querySelector('#df-97fb5b50-6f83-43eb-ba5e-eb083add6673 button.colab-df-convert');\n",
              "        buttonEl.style.display =\n",
              "          google.colab.kernel.accessAllowed ? 'block' : 'none';\n",
              "\n",
              "        async function convertToInteractive(key) {\n",
              "          const element = document.querySelector('#df-97fb5b50-6f83-43eb-ba5e-eb083add6673');\n",
              "          const dataTable =\n",
              "            await google.colab.kernel.invokeFunction('convertToInteractive',\n",
              "                                                     [key], {});\n",
              "          if (!dataTable) return;\n",
              "\n",
              "          const docLinkHtml = 'Like what you see? Visit the ' +\n",
              "            '<a target=\"_blank\" href=https://colab.research.google.com/notebooks/data_table.ipynb>data table notebook</a>'\n",
              "            + ' to learn more about interactive tables.';\n",
              "          element.innerHTML = '';\n",
              "          dataTable['output_type'] = 'display_data';\n",
              "          await google.colab.output.renderOutput(dataTable, element);\n",
              "          const docLink = document.createElement('div');\n",
              "          docLink.innerHTML = docLinkHtml;\n",
              "          element.appendChild(docLink);\n",
              "        }\n",
              "      </script>\n",
              "    </div>\n",
              "  </div>\n",
              "  "
            ],
            "text/plain": [
              "        Date        Open        High  ...       Close   Adj Close    Volume\n",
              "0 2016-01-01  430.721008  436.246002  ...  434.334015  434.334015  36278900\n",
              "1 2016-01-02  434.622009  436.062012  ...  433.437988  433.437988  30096600\n",
              "2 2016-01-03  433.578003  433.743011  ...  430.010986  430.010986  39633800\n",
              "3 2016-01-04  430.061005  434.516998  ...  433.091003  433.091003  38477500\n",
              "4 2016-01-05  433.069000  434.182007  ...  431.959991  431.959991  34522600\n",
              "\n",
              "[5 rows x 7 columns]"
            ]
          },
          "metadata": {},
          "execution_count": 57
        }
      ]
    },
    {
      "cell_type": "code",
      "source": [
        "print(len(train))"
      ],
      "metadata": {
        "colab": {
          "base_uri": "https://localhost:8080/"
        },
        "id": "Qq8y50ISkiYh",
        "outputId": "b60fd297-f857-4f16-e4fd-adc93c3988af"
      },
      "execution_count": null,
      "outputs": [
        {
          "output_type": "stream",
          "name": "stdout",
          "text": [
            "2193\n"
          ]
        }
      ]
    },
    {
      "cell_type": "code",
      "source": [
        "train['Close'].plot(figsize=(16,8))"
      ],
      "metadata": {
        "colab": {
          "base_uri": "https://localhost:8080/",
          "height": 324
        },
        "id": "9hcDpajLkscQ",
        "outputId": "05ce6b47-da8a-4695-adf4-17804f749ad9"
      },
      "execution_count": null,
      "outputs": [
        {
          "output_type": "execute_result",
          "data": {
            "text/plain": [
              "<matplotlib.axes._subplots.AxesSubplot at 0x7f0916c97a10>"
            ]
          },
          "metadata": {},
          "execution_count": 59
        },
        {
          "output_type": "display_data",
          "data": {
            "image/png": "[encoded data removed]",
            "text/plain": [
              "<Figure size 1152x576 with 1 Axes>"
            ]
          },
          "metadata": {
            "needs_background": "light"
          }
        }
      ]
    },
    {
      "cell_type": "code",
      "source": [
        "x1 = train[['Open', 'High','Low', 'Volume']]\n",
        "y1 = train['Close']"
      ],
      "metadata": {
        "id": "UbehmK7ek7Vl"
      },
      "execution_count": null,
      "outputs": []
    },
    {
      "cell_type": "code",
      "source": [
        "from sklearn.model_selection import train_test_split\n",
        "x1_train, x1_test, y1_train, y1_test = train_test_split(x1, y1, random_state = 0)"
      ],
      "metadata": {
        "id": "s7LfMJeek7Rn"
      },
      "execution_count": null,
      "outputs": []
    },
    {
      "cell_type": "code",
      "source": [
        "x1_train.shape"
      ],
      "metadata": {
        "colab": {
          "base_uri": "https://localhost:8080/"
        },
        "id": "1zxDFOPHk7PJ",
        "outputId": "807d542c-bae3-436c-c198-1af2332d153b"
      },
      "execution_count": null,
      "outputs": [
        {
          "output_type": "execute_result",
          "data": {
            "text/plain": [
              "(1644, 4)"
            ]
          },
          "metadata": {},
          "execution_count": 62
        }
      ]
    },
    {
      "cell_type": "code",
      "source": [
        "x1_test.shape"
      ],
      "metadata": {
        "colab": {
          "base_uri": "https://localhost:8080/"
        },
        "id": "t07VTNLtlTCs",
        "outputId": "aee5a469-30cb-44e6-e6a0-d8b8456fe1f3"
      },
      "execution_count": null,
      "outputs": [
        {
          "output_type": "execute_result",
          "data": {
            "text/plain": [
              "(549, 4)"
            ]
          },
          "metadata": {},
          "execution_count": 63
        }
      ]
    },
    {
      "cell_type": "code",
      "source": [
        "from sklearn.linear_model import LinearRegression\n",
        "from sklearn.metrics import confusion_matrix, accuracy_score\n",
        "regression = LinearRegression()"
      ],
      "metadata": {
        "id": "AxWtopHIlcWi"
      },
      "execution_count": null,
      "outputs": []
    },
    {
      "cell_type": "code",
      "source": [
        "regression.fit(x1_train, y1_train)"
      ],
      "metadata": {
        "colab": {
          "base_uri": "https://localhost:8080/"
        },
        "id": "dVdQdZhlleOn",
        "outputId": "63160d84-bae0-482c-f415-4b45abc11c9c"
      },
      "execution_count": null,
      "outputs": [
        {
          "output_type": "execute_result",
          "data": {
            "text/plain": [
              "LinearRegression()"
            ]
          },
          "metadata": {},
          "execution_count": 65
        }
      ]
    },
    {
      "cell_type": "code",
      "source": [
        "print(regression.coef_)"
      ],
      "metadata": {
        "colab": {
          "base_uri": "https://localhost:8080/"
        },
        "id": "SFAyxNH-lpuU",
        "outputId": "7f2dd885-d2ee-45cc-a5e4-f3ec6f4bd4ed"
      },
      "execution_count": null,
      "outputs": [
        {
          "output_type": "stream",
          "name": "stdout",
          "text": [
            "[-5.41125561e-01  9.00347825e-01  6.35449625e-01  7.45814299e-10]\n"
          ]
        }
      ]
    },
    {
      "cell_type": "code",
      "source": [
        "\n",
        "print(regression.intercept_)"
      ],
      "metadata": {
        "colab": {
          "base_uri": "https://localhost:8080/"
        },
        "id": "ORFFKYoMlxOc",
        "outputId": "91071867-7bdb-4c5d-c189-2b32837ed920"
      },
      "execution_count": null,
      "outputs": [
        {
          "output_type": "stream",
          "name": "stdout",
          "text": [
            "1.97166935493442\n"
          ]
        }
      ]
    },
    {
      "cell_type": "code",
      "source": [
        "predicted=regression.predict(x1_test)\n",
        "predicted"
      ],
      "metadata": {
        "colab": {
          "base_uri": "https://localhost:8080/"
        },
        "id": "CqYzZp9zl6HN",
        "outputId": "ee0cf41c-eced-4409-f82c-12fbf84323d0"
      },
      "execution_count": null,
      "outputs": [
        {
          "output_type": "execute_result",
          "data": {
            "text/plain": [
              "array([ 1591.8573378 ,  4304.43287468, 36392.91202738, 51818.42347276,\n",
              "         889.4324666 , 10910.15069597, 38350.72273721,  7253.68612911,\n",
              "        2710.06108216,  9451.89204268, 57680.72108193,   573.28614658,\n",
              "        7339.39418274,   668.41157924,   644.77483354,  9692.59313429,\n",
              "         457.77368113,  6452.9470288 ,  6497.10259327,  6476.42217832,\n",
              "        6642.81656766, 39546.23434527,  8196.49739019, 10027.02967577,\n",
              "       10059.0367033 ,  6333.23237914,  9152.48122774, 10334.62505164,\n",
              "       30667.35387532,  1026.67272715,  9265.49931496,  2804.52739984,\n",
              "       11807.40582812, 10296.03544947,   578.20526538,   376.55471182,\n",
              "       10634.88384221, 11436.82545555, 48553.18437432,  6456.54584415,\n",
              "       55123.14103342,  7060.29401559,   660.47384243, 63476.89240941,\n",
              "       55558.07057171, 11808.23508283, 10156.95002072,  9117.73915763,\n",
              "        6898.69925921, 10905.88833975,   790.89836923,  1209.99310255,\n",
              "         621.59567247,  6335.85398361,  1220.87360273, 63019.02101381,\n",
              "         452.27376474,   640.99879893,   588.84781424,  4065.43201403,\n",
              "        1039.44475564,  3817.10676644,  2515.72561679, 50496.90397295,\n",
              "        7013.94093081,   428.11809623,  4957.62619592,   388.15721085,\n",
              "        9213.34531651, 11763.35984319,   734.33200588, 60573.78458361,\n",
              "         420.49469671,  7680.97613976,  1421.06788291, 51276.2334256 ,\n",
              "       46392.38471394,  3701.23025145, 40053.93567261,   655.27868551,\n",
              "        2507.69814884, 12180.89837807, 51277.75725211,  4316.60363109,\n",
              "        8940.16725247,  9132.21860602,   610.83383193,  8918.7849937 ,\n",
              "        2029.03462251,  7985.67345504,   424.27274492,  7767.28032925,\n",
              "        8336.83968487,  8758.30846345,   526.82641156,  9649.36661192,\n",
              "         681.42737123, 11639.59215013, 13021.01679016,  3912.59517613,\n",
              "        9752.13970641, 13374.74051397,  1459.99432488,   770.62361264,\n",
              "       35646.34483461,  6684.14424441, 45408.78386738,  6330.37838093,\n",
              "       47540.42983175,  1231.88667552, 10401.72643138,  3800.67489444,\n",
              "       10661.19130826,  2657.65104353,  8680.76701431,  7386.57521267,\n",
              "       48421.74996681,   422.92028805,  6321.23108216,  2575.48201473,\n",
              "        7620.39828748,  4670.96177986,  5332.18170808,  1336.13544887,\n",
              "        6639.495985  ,  7168.27422995, 11370.30067896, 10868.42844029,\n",
              "        2723.62057625,   619.20830456, 33427.0683416 ,  9341.16206179,\n",
              "         575.49264353,  1881.52176468, 47537.34482495, 10194.57832502,\n",
              "       48349.41739698,   873.28085066,  3636.64157913, 10028.11646116,\n",
              "         625.62028171,  3714.25915361,  7102.02228669, 13391.70817389,\n",
              "       47294.57659338,  5777.36735665,  4214.30651231, 32633.67657588,\n",
              "       11835.6134833 , 32182.03348938,  7196.66475119,  6202.32335833,\n",
              "        7451.11600985,   430.77948755,  1561.62664735,  7600.30976731,\n",
              "       37130.59341023,  1111.41293995,  8841.3948412 ,  2344.36694412,\n",
              "        6724.35459708,   920.6246929 ,  2193.37734052,  2734.92386558,\n",
              "       10472.26418507,  3683.12616615,   931.54153182,   382.48640381,\n",
              "       10645.32331863,  6493.5377218 ,  3969.56437925,  3900.00672359,\n",
              "        7242.97167732,  1190.25836415,   419.12815457,  3986.8834936 ,\n",
              "       11267.19365757,  3927.70057768,   674.74459172,  4452.37207432,\n",
              "        3906.85716196,  2423.45174013,   660.27511533,   713.77945478,\n",
              "       15486.71250005,  7337.43425546,   449.51952943,  5761.01699383,\n",
              "       10398.0250013 ,  3910.39525666,  8795.43036227,   603.23157162,\n",
              "        9618.99519316,  6381.51930096, 33143.46312153, 56081.95169183,\n",
              "        8211.91905852, 10156.7581401 ,  1057.69526551,  1098.21995697,\n",
              "        3495.7871221 ,  6963.58215884, 58215.74457543, 16814.6092859 ,\n",
              "         422.80295345,   373.48110759,  5538.66719411, 63436.87741524,\n",
              "       61176.02114742, 38649.19190453,   455.5410929 , 11547.52875522,\n",
              "        9415.45880053,   384.22699394, 32150.36226411, 49096.5022355 ,\n",
              "        9435.08971591, 61015.67302274, 36228.77789311,  1049.29752191,\n",
              "        8057.83803109,  8770.59848877,   597.50928338,   426.41366245,\n",
              "        3567.93328132, 10912.26514042, 56988.02477623,  5086.26466847,\n",
              "       39033.05014037,   385.58409007, 36708.3142782 , 11226.74640661,\n",
              "         607.52012446,  4565.21556618,   540.8719815 , 29297.03706202,\n",
              "       14236.23133415,  8887.08756584, 11931.05413149,  6584.37220842,\n",
              "       48746.86213936,   823.67747315,  8902.35339971,  7905.9162762 ,\n",
              "        2450.75780006, 11575.54717922,  1048.59210064,  6459.51271655,\n",
              "        2719.62924738,   455.05281644,  8188.4679874 , 18056.20445126,\n",
              "        4037.76433048, 26537.85985825, 11799.91066397, 14526.18697952,\n",
              "       35573.61057832, 34201.97015464,   685.87877471, 64627.63075056,\n",
              "        1217.0327625 , 10278.70410164,  8099.94069896,   576.15643753,\n",
              "         379.40632579,   608.2986759 ,  6603.33429428,  9937.85637178,\n",
              "        2468.96955663, 16628.30400495, 18962.68238526, 10171.19165861,\n",
              "       32224.18637013,  5325.58846889,  5331.34598362,  6617.81186257,\n",
              "        7369.10736258,  3724.74917969, 32115.19438421,  9086.9875833 ,\n",
              "       48804.18455145,  2786.02691687, 56775.94867921, 16112.87756532,\n",
              "        2340.37128877,  6515.01186076,  6355.20420931, 55454.8426815 ,\n",
              "       48713.58723518,   403.3212659 ,   565.58424735,  4560.28204648,\n",
              "        1949.70443517, 10851.53045759,   411.30306221,   656.91446628,\n",
              "       48293.54155547,  6671.42833205,  7323.26305692,   899.28206882,\n",
              "       23291.41352052,   581.74287587, 10393.35758912, 10354.56906584,\n",
              "        6675.03517772,  5261.23371116,  7897.35778778, 44858.14670641,\n",
              "        8863.54906206, 10878.33219838,   612.42211383,   897.76917673,\n",
              "        8255.00130579,  6439.11671303, 48334.7896415 ,   701.14858631,\n",
              "        8318.76988624, 35035.28587461,   379.38834103, 15299.54617252,\n",
              "        3694.8820886 ,  8797.95026382, 54866.8179092 ,   623.22709915,\n",
              "        2875.31021531,  6765.48317002,  9963.28521845, 35475.67435604,\n",
              "         692.16268203, 10595.77567922,  8833.20227907,  7430.03294147,\n",
              "        8931.51103372,   376.35989921,  9517.71764103, 34671.00876443,\n",
              "       60918.60778442,   914.79212973, 15309.44417436, 58118.85801933,\n",
              "         732.65279567, 40793.01074869, 51854.67517429, 59735.75156898,\n",
              "        5752.72725711,  8328.91114046,  1152.17897289,   715.64479238,\n",
              "        9202.97672677, 15246.13933534,  6520.71192326, 36040.97015077,\n",
              "         921.47033856,  7443.65465298, 13703.76006907,  1231.86940826,\n",
              "        7172.14233612, 45632.45811664,  1178.49026533, 23624.30420431,\n",
              "       46585.43114415,  9228.32489876, 48705.58920213,   442.53981364,\n",
              "       51488.87756221,  9164.75772883,  8782.41413807,  4298.10892662,\n",
              "         442.90038235,   747.33457945, 50356.88538167,   411.199379  ,\n",
              "       10152.11845921,   608.5720247 ,  9137.69697061,  4013.77143601,\n",
              "         572.56139644,  8260.71818091,  6757.07089198, 13046.04540674,\n",
              "       47883.14370314,  8671.50544758, 46833.94245014,  9111.33012464,\n",
              "        5026.67862386,  4314.47697739,  8632.31987591,   639.47974747,\n",
              "       43430.13555086,  5806.8193806 ,   676.06446504, 12654.90193095,\n",
              "        8614.96791493,  3540.11569114,  1135.65912322, 11365.75079042,\n",
              "       47230.08562122,  7437.53578056,  7230.89670944,   417.90376703,\n",
              "       11420.95328482, 67364.27052428,   381.67821904, 46937.11739121,\n",
              "         443.42680881,  2319.76676449, 11676.8719596 ,   433.84814743,\n",
              "        4837.14805499,  7849.20130198,  2747.88026686, 51916.75322209,\n",
              "         636.54636423,  7050.96474852,   452.49352484,  6160.22655652,\n",
              "       50470.44180709,  3887.52790321,  6639.69270282,  9502.48582919,\n",
              "        8605.54937098,  6415.97525713,  8860.94525273,  3650.20800897,\n",
              "       46532.51802713,  3891.71153179,   611.79920093,  8870.84790628,\n",
              "       13439.11713067,   708.78144637,  1479.54874969,   679.25426791,\n",
              "       11232.78676022,   447.07599161,  1031.6582329 ,  5337.75114061,\n",
              "       11966.29556074,  7515.22628663, 13289.59434959, 11401.1365744 ,\n",
              "        3224.40425311,  1012.41087302,  6991.48194233,  7508.11786946,\n",
              "       10447.92826359,  4568.84083439, 56710.94154615, 11674.69779175,\n",
              "        1739.88695092,  4108.64302553,  3248.51378391,  7337.01323923,\n",
              "        8051.62682108,  8007.2369622 ,  9997.05904624,  6502.56493857,\n",
              "        9350.03415378,  6488.61230226,   446.24418795,  8818.24358677,\n",
              "        7880.05887688,  8941.41171307,   605.27263358,   632.33725439,\n",
              "        3411.85250373,   740.91850774,  6889.91500488, 42054.21013693,\n",
              "        4100.92666137,  9327.75594823,  1213.90142081,  6499.66071005,\n",
              "        5392.90508929, 44764.89942699,  4878.27959403, 36854.30417384,\n",
              "         446.99992134, 65928.37166272,  7469.58930984,  2824.80009374,\n",
              "       10770.87600071,   661.53416742, 39498.05727789, 15363.33636833,\n",
              "        9923.21637073, 61434.91734799,  6908.40349872,  1143.40588851,\n",
              "       11890.80666859,  1180.59482184,  6289.38966546, 14907.20554911,\n",
              "        7396.7692913 ,  6464.49006721, 61922.81432059,   444.1978489 ,\n",
              "        8526.41105904,   439.91389392,  1206.42137919,   389.4080567 ,\n",
              "       48391.96110956, 43739.03233115, 13438.21279052,   823.32107834,\n",
              "       11017.81424322,  6415.29579058,  8753.48860782,  9927.88102582,\n",
              "        6693.45582351,  9598.48375019,  9362.27254987,  7032.72378833,\n",
              "        8144.75690457,  5866.60302125,  7314.4866634 ,  2086.94272393,\n",
              "        7313.81857039, 10812.99595122,   428.46763429, 10346.51196728,\n",
              "       58696.13552041,  7185.82087036,   567.63764099, 38438.03390133,\n",
              "        6637.56927585,   421.49270681, 10682.33194185,  7323.77381254,\n",
              "        6333.46350707,  6352.70266478,  6345.04935596, 10240.65978086,\n",
              "       49962.95396141, 32262.1832105 ,  5507.56595652, 19617.22018436,\n",
              "        9616.47614811, 10059.6555611 , 10047.97809107, 11820.78569649,\n",
              "       11470.91618216,   602.6219936 ,  3847.52742457,   593.96551133,\n",
              "        6481.32706715,  9247.41439146, 37426.30573539,  5649.46213951,\n",
              "       11395.05603012])"
            ]
          },
          "metadata": {},
          "execution_count": 69
        }
      ]
    },
    {
      "cell_type": "code",
      "source": [
        "print(x1_test)"
      ],
      "metadata": {
        "colab": {
          "base_uri": "https://localhost:8080/"
        },
        "id": "axm3H37Dl6C8",
        "outputId": "cddcd514-0be0-453f-92e3-1e034487d400"
      },
      "execution_count": null,
      "outputs": [
        {
          "output_type": "stream",
          "name": "stdout",
          "text": [
            "              Open          High           Low       Volume\n",
            "489    1490.719971   1608.910034   1490.719971    933548992\n",
            "1063   4269.004395   4413.020508   4145.765137   6503347767\n",
            "1986  33416.976563  37537.371094  32475.865234  53972919008\n",
            "1888  48415.816406  52535.136719  48274.320313  53220811975\n",
            "385     898.171997    899.398010    887.007996     86728400\n",
            "...            ...           ...           ...          ...\n",
            "1027   6478.890137   6521.990234   6468.859863   3424670000\n",
            "1654   9241.054688   9319.418945   9197.450195  14452361907\n",
            "1967  40596.949219  42172.171875  33616.453125  82051616861\n",
            "654    5687.569824   5776.229980   5544.209961   2008070016\n",
            "1318  11349.740234  11523.579102  11248.294922  15774371518\n",
            "\n",
            "[549 rows x 4 columns]\n"
          ]
        }
      ]
    },
    {
      "cell_type": "code",
      "source": [
        "predicted.shape"
      ],
      "metadata": {
        "colab": {
          "base_uri": "https://localhost:8080/"
        },
        "id": "lKgOgT1_l6AQ",
        "outputId": "b05c7fb2-e918-453a-ac4a-684a107ef8b8"
      },
      "execution_count": null,
      "outputs": [
        {
          "output_type": "execute_result",
          "data": {
            "text/plain": [
              "(549,)"
            ]
          },
          "metadata": {},
          "execution_count": 71
        }
      ]
    },
    {
      "cell_type": "code",
      "source": [
        "dframe = pd.DataFrame(y1_test,predicted)\n",
        "dfr=pd.DataFrame({'Actual_Price':y1_test, 'Predicted_Price':predicted})\n",
        "print(dfr)"
      ],
      "metadata": {
        "colab": {
          "base_uri": "https://localhost:8080/"
        },
        "id": "k7K7i_AvmWyd",
        "outputId": "2540b9ef-85de-4793-cff9-126a377d2d91"
      },
      "execution_count": null,
      "outputs": [
        {
          "output_type": "stream",
          "name": "stdout",
          "text": [
            "      Actual_Price  Predicted_Price\n",
            "489    1537.670044      1591.857338\n",
            "1063   4278.846680      4304.432875\n",
            "1986  37345.121094     36392.912027\n",
            "1888  50538.242188     51818.423473\n",
            "385     895.026001       889.432467\n",
            "...            ...              ...\n",
            "1027   6495.839844      6481.327067\n",
            "1654   9276.500000      9247.414391\n",
            "1967  37304.691406     37426.305735\n",
            "654    5725.589844      5649.462140\n",
            "1318  11523.579102     11395.056030\n",
            "\n",
            "[549 rows x 2 columns]\n"
          ]
        }
      ]
    },
    {
      "cell_type": "code",
      "source": [
        "dfr.head(10)"
      ],
      "metadata": {
        "colab": {
          "base_uri": "https://localhost:8080/",
          "height": 363
        },
        "id": "aHocBJ4umd6N",
        "outputId": "c4a83bf8-ed5b-4ff7-da32-d45e1d19444e"
      },
      "execution_count": null,
      "outputs": [
        {
          "output_type": "execute_result",
          "data": {
            "text/html": [
              "\n",
              "  <div id=\"df-69e3d466-f332-40d4-b487-6109e8aefe1f\">\n",
              "    <div class=\"colab-df-container\">\n",
              "      <div>\n",
              "<style scoped>\n",
              "    .dataframe tbody tr th:only-of-type {\n",
              "        vertical-align: middle;\n",
              "    }\n",
              "\n",
              "    .dataframe tbody tr th {\n",
              "        vertical-align: top;\n",
              "    }\n",
              "\n",
              "    .dataframe thead th {\n",
              "        text-align: right;\n",
              "    }\n",
              "</style>\n",
              "<table border=\"1\" class=\"dataframe\">\n",
              "  <thead>\n",
              "    <tr style=\"text-align: right;\">\n",
              "      <th></th>\n",
              "      <th>Actual_Price</th>\n",
              "      <th>Predicted_Price</th>\n",
              "    </tr>\n",
              "  </thead>\n",
              "  <tbody>\n",
              "    <tr>\n",
              "      <th>489</th>\n",
              "      <td>1537.670044</td>\n",
              "      <td>1591.857338</td>\n",
              "    </tr>\n",
              "    <tr>\n",
              "      <th>1063</th>\n",
              "      <td>4278.846680</td>\n",
              "      <td>4304.432875</td>\n",
              "    </tr>\n",
              "    <tr>\n",
              "      <th>1986</th>\n",
              "      <td>37345.121094</td>\n",
              "      <td>36392.912027</td>\n",
              "    </tr>\n",
              "    <tr>\n",
              "      <th>1888</th>\n",
              "      <td>50538.242188</td>\n",
              "      <td>51818.423473</td>\n",
              "    </tr>\n",
              "    <tr>\n",
              "      <th>385</th>\n",
              "      <td>895.026001</td>\n",
              "      <td>889.432467</td>\n",
              "    </tr>\n",
              "    <tr>\n",
              "      <th>1296</th>\n",
              "      <td>10767.139648</td>\n",
              "      <td>10910.150696</td>\n",
              "    </tr>\n",
              "    <tr>\n",
              "      <th>1990</th>\n",
              "      <td>39097.859375</td>\n",
              "      <td>38350.722737</td>\n",
              "    </tr>\n",
              "    <tr>\n",
              "      <th>1442</th>\n",
              "      <td>7269.684570</td>\n",
              "      <td>7253.686129</td>\n",
              "    </tr>\n",
              "    <tr>\n",
              "      <th>579</th>\n",
              "      <td>2710.669922</td>\n",
              "      <td>2710.061082</td>\n",
              "    </tr>\n",
              "    <tr>\n",
              "      <th>1490</th>\n",
              "      <td>9508.993164</td>\n",
              "      <td>9451.892043</td>\n",
              "    </tr>\n",
              "  </tbody>\n",
              "</table>\n",
              "</div>\n",
              "      <button class=\"colab-df-convert\" onclick=\"convertToInteractive('df-69e3d466-f332-40d4-b487-6109e8aefe1f')\"\n",
              "              title=\"Convert this dataframe to an interactive table.\"\n",
              "              style=\"display:none;\">\n",
              "        \n",
              "  <svg xmlns=\"http://www.w3.org/2000/svg\" height=\"24px\"viewBox=\"0 0 24 24\"\n",
              "       width=\"24px\">\n",
              "    <path d=\"M0 0h24v24H0V0z\" fill=\"none\"/>\n",
              "    <path d=\"M18.56 5.44l.94 2.06.94-2.06 2.06-.94-2.06-.94-.94-2.06-.94 2.06-2.06.94zm-11 1L8.5 8.5l.94-2.06 2.06-.94-2.06-.94L8.5 2.5l-.94 2.06-2.06.94zm10 10l.94 2.06.94-2.06 2.06-.94-2.06-.94-.94-2.06-.94 2.06-2.06.94z\"/><path d=\"M17.41 7.96l-1.37-1.37c-.4-.4-.92-.59-1.43-.59-.52 0-1.04.2-1.43.59L10.3 9.45l-7.72 7.72c-.78.78-.78 2.05 0 2.83L4 21.41c.39.39.9.59 1.41.59.51 0 1.02-.2 1.41-.59l7.78-7.78 2.81-2.81c.8-.78.8-2.07 0-2.86zM5.41 20L4 18.59l7.72-7.72 1.47 1.35L5.41 20z\"/>\n",
              "  </svg>\n",
              "      </button>\n",
              "      \n",
              "  <style>\n",
              "    .colab-df-container {\n",
              "      display:flex;\n",
              "      flex-wrap:wrap;\n",
              "      gap: 12px;\n",
              "    }\n",
              "\n",
              "    .colab-df-convert {\n",
              "      background-color: #E8F0FE;\n",
              "      border: none;\n",
              "      border-radius: 50%;\n",
              "      cursor: pointer;\n",
              "      display: none;\n",
              "      fill: #1967D2;\n",
              "      height: 32px;\n",
              "      padding: 0 0 0 0;\n",
              "      width: 32px;\n",
              "    }\n",
              "\n",
              "    .colab-df-convert:hover {\n",
              "      background-color: #E2EBFA;\n",
              "      box-shadow: 0px 1px 2px rgba(60, 64, 67, 0.3), 0px 1px 3px 1px rgba(60, 64, 67, 0.15);\n",
              "      fill: #174EA6;\n",
              "    }\n",
              "\n",
              "    [theme=dark] .colab-df-convert {\n",
              "      background-color: #3B4455;\n",
              "      fill: #D2E3FC;\n",
              "    }\n",
              "\n",
              "    [theme=dark] .colab-df-convert:hover {\n",
              "      background-color: #434B5C;\n",
              "      box-shadow: 0px 1px 3px 1px rgba(0, 0, 0, 0.15);\n",
              "      filter: drop-shadow(0px 1px 2px rgba(0, 0, 0, 0.3));\n",
              "      fill: #FFFFFF;\n",
              "    }\n",
              "  </style>\n",
              "\n",
              "      <script>\n",
              "        const buttonEl =\n",
              "          document.querySelector('#df-69e3d466-f332-40d4-b487-6109e8aefe1f button.colab-df-convert');\n",
              "        buttonEl.style.display =\n",
              "          google.colab.kernel.accessAllowed ? 'block' : 'none';\n",
              "\n",
              "        async function convertToInteractive(key) {\n",
              "          const element = document.querySelector('#df-69e3d466-f332-40d4-b487-6109e8aefe1f');\n",
              "          const dataTable =\n",
              "            await google.colab.kernel.invokeFunction('convertToInteractive',\n",
              "                                                     [key], {});\n",
              "          if (!dataTable) return;\n",
              "\n",
              "          const docLinkHtml = 'Like what you see? Visit the ' +\n",
              "            '<a target=\"_blank\" href=https://colab.research.google.com/notebooks/data_table.ipynb>data table notebook</a>'\n",
              "            + ' to learn more about interactive tables.';\n",
              "          element.innerHTML = '';\n",
              "          dataTable['output_type'] = 'display_data';\n",
              "          await google.colab.output.renderOutput(dataTable, element);\n",
              "          const docLink = document.createElement('div');\n",
              "          docLink.innerHTML = docLinkHtml;\n",
              "          element.appendChild(docLink);\n",
              "        }\n",
              "      </script>\n",
              "    </div>\n",
              "  </div>\n",
              "  "
            ],
            "text/plain": [
              "      Actual_Price  Predicted_Price\n",
              "489    1537.670044      1591.857338\n",
              "1063   4278.846680      4304.432875\n",
              "1986  37345.121094     36392.912027\n",
              "1888  50538.242188     51818.423473\n",
              "385     895.026001       889.432467\n",
              "1296  10767.139648     10910.150696\n",
              "1990  39097.859375     38350.722737\n",
              "1442   7269.684570      7253.686129\n",
              "579    2710.669922      2710.061082\n",
              "1490   9508.993164      9451.892043"
            ]
          },
          "metadata": {},
          "execution_count": 73
        }
      ]
    },
    {
      "cell_type": "code",
      "source": [
        "from sklearn.metrics import confusion_matrix, accuracy_score"
      ],
      "metadata": {
        "id": "OmnETDAGmpm6"
      },
      "execution_count": null,
      "outputs": []
    },
    {
      "cell_type": "code",
      "source": [
        "regression.score(x1_test, y1_test)"
      ],
      "metadata": {
        "colab": {
          "base_uri": "https://localhost:8080/"
        },
        "id": "4CJib4Vcmw5Y",
        "outputId": "03cdc990-34b9-404a-cac3-cf3f5195859a"
      },
      "execution_count": null,
      "outputs": [
        {
          "output_type": "execute_result",
          "data": {
            "text/plain": [
              "0.9996758350494236"
            ]
          },
          "metadata": {},
          "execution_count": 75
        }
      ]
    },
    {
      "cell_type": "code",
      "source": [
        "print('Mean Absolute Error:', metrics.mean_absolute_error(y1_test, predicted))\n",
        "print('Mean Squared Error:', metrics.mean_squared_error(y1_test, predicted))\n",
        "print('Root Mean Squared Error:', np.sqrt(metrics.mean_squared_error(y1_test, predicted)))"
      ],
      "metadata": {
        "colab": {
          "base_uri": "https://localhost:8080/"
        },
        "id": "7ABbuC2hm_4R",
        "outputId": "0c4279b6-caf0-4d2e-bf30-737b6beca454"
      },
      "execution_count": null,
      "outputs": [
        {
          "output_type": "stream",
          "name": "stdout",
          "text": [
            "Mean Absolute Error: 136.35648357985554\n",
            "Mean Squared Error: 88775.8476924798\n",
            "Root Mean Squared Error: 297.9527608405061\n"
          ]
        }
      ]
    },
    {
      "cell_type": "code",
      "source": [
        "dfr.describe()\n"
      ],
      "metadata": {
        "colab": {
          "base_uri": "https://localhost:8080/",
          "height": 300
        },
        "id": "i7xqJREdnHHC",
        "outputId": "41ea6f07-2d67-4056-f3ad-4c2663c38a18"
      },
      "execution_count": null,
      "outputs": [
        {
          "output_type": "execute_result",
          "data": {
            "text/html": [
              "\n",
              "  <div id=\"df-94fd1c87-602c-4cb1-877e-be07efe3cd49\">\n",
              "    <div class=\"colab-df-container\">\n",
              "      <div>\n",
              "<style scoped>\n",
              "    .dataframe tbody tr th:only-of-type {\n",
              "        vertical-align: middle;\n",
              "    }\n",
              "\n",
              "    .dataframe tbody tr th {\n",
              "        vertical-align: top;\n",
              "    }\n",
              "\n",
              "    .dataframe thead th {\n",
              "        text-align: right;\n",
              "    }\n",
              "</style>\n",
              "<table border=\"1\" class=\"dataframe\">\n",
              "  <thead>\n",
              "    <tr style=\"text-align: right;\">\n",
              "      <th></th>\n",
              "      <th>Actual_Price</th>\n",
              "      <th>Predicted_Price</th>\n",
              "    </tr>\n",
              "  </thead>\n",
              "  <tbody>\n",
              "    <tr>\n",
              "      <th>count</th>\n",
              "      <td>549.000000</td>\n",
              "      <td>549.000000</td>\n",
              "    </tr>\n",
              "    <tr>\n",
              "      <th>mean</th>\n",
              "      <td>12972.274385</td>\n",
              "      <td>12973.779366</td>\n",
              "    </tr>\n",
              "    <tr>\n",
              "      <th>std</th>\n",
              "      <td>16563.811476</td>\n",
              "      <td>16549.243206</td>\n",
              "    </tr>\n",
              "    <tr>\n",
              "      <th>min</th>\n",
              "      <td>364.330994</td>\n",
              "      <td>373.481108</td>\n",
              "    </tr>\n",
              "    <tr>\n",
              "      <th>25%</th>\n",
              "      <td>2273.429932</td>\n",
              "      <td>2319.766764</td>\n",
              "    </tr>\n",
              "    <tr>\n",
              "      <th>50%</th>\n",
              "      <td>7217.427246</td>\n",
              "      <td>7313.818570</td>\n",
              "    </tr>\n",
              "    <tr>\n",
              "      <th>75%</th>\n",
              "      <td>11489.700195</td>\n",
              "      <td>11420.953285</td>\n",
              "    </tr>\n",
              "    <tr>\n",
              "      <th>max</th>\n",
              "      <td>66971.828125</td>\n",
              "      <td>67364.270524</td>\n",
              "    </tr>\n",
              "  </tbody>\n",
              "</table>\n",
              "</div>\n",
              "      <button class=\"colab-df-convert\" onclick=\"convertToInteractive('df-94fd1c87-602c-4cb1-877e-be07efe3cd49')\"\n",
              "              title=\"Convert this dataframe to an interactive table.\"\n",
              "              style=\"display:none;\">\n",
              "        \n",
              "  <svg xmlns=\"http://www.w3.org/2000/svg\" height=\"24px\"viewBox=\"0 0 24 24\"\n",
              "       width=\"24px\">\n",
              "    <path d=\"M0 0h24v24H0V0z\" fill=\"none\"/>\n",
              "    <path d=\"M18.56 5.44l.94 2.06.94-2.06 2.06-.94-2.06-.94-.94-2.06-.94 2.06-2.06.94zm-11 1L8.5 8.5l.94-2.06 2.06-.94-2.06-.94L8.5 2.5l-.94 2.06-2.06.94zm10 10l.94 2.06.94-2.06 2.06-.94-2.06-.94-.94-2.06-.94 2.06-2.06.94z\"/><path d=\"M17.41 7.96l-1.37-1.37c-.4-.4-.92-.59-1.43-.59-.52 0-1.04.2-1.43.59L10.3 9.45l-7.72 7.72c-.78.78-.78 2.05 0 2.83L4 21.41c.39.39.9.59 1.41.59.51 0 1.02-.2 1.41-.59l7.78-7.78 2.81-2.81c.8-.78.8-2.07 0-2.86zM5.41 20L4 18.59l7.72-7.72 1.47 1.35L5.41 20z\"/>\n",
              "  </svg>\n",
              "      </button>\n",
              "      \n",
              "  <style>\n",
              "    .colab-df-container {\n",
              "      display:flex;\n",
              "      flex-wrap:wrap;\n",
              "      gap: 12px;\n",
              "    }\n",
              "\n",
              "    .colab-df-convert {\n",
              "      background-color: #E8F0FE;\n",
              "      border: none;\n",
              "      border-radius: 50%;\n",
              "      cursor: pointer;\n",
              "      display: none;\n",
              "      fill: #1967D2;\n",
              "      height: 32px;\n",
              "      padding: 0 0 0 0;\n",
              "      width: 32px;\n",
              "    }\n",
              "\n",
              "    .colab-df-convert:hover {\n",
              "      background-color: #E2EBFA;\n",
              "      box-shadow: 0px 1px 2px rgba(60, 64, 67, 0.3), 0px 1px 3px 1px rgba(60, 64, 67, 0.15);\n",
              "      fill: #174EA6;\n",
              "    }\n",
              "\n",
              "    [theme=dark] .colab-df-convert {\n",
              "      background-color: #3B4455;\n",
              "      fill: #D2E3FC;\n",
              "    }\n",
              "\n",
              "    [theme=dark] .colab-df-convert:hover {\n",
              "      background-color: #434B5C;\n",
              "      box-shadow: 0px 1px 3px 1px rgba(0, 0, 0, 0.15);\n",
              "      filter: drop-shadow(0px 1px 2px rgba(0, 0, 0, 0.3));\n",
              "      fill: #FFFFFF;\n",
              "    }\n",
              "  </style>\n",
              "\n",
              "      <script>\n",
              "        const buttonEl =\n",
              "          document.querySelector('#df-94fd1c87-602c-4cb1-877e-be07efe3cd49 button.colab-df-convert');\n",
              "        buttonEl.style.display =\n",
              "          google.colab.kernel.accessAllowed ? 'block' : 'none';\n",
              "\n",
              "        async function convertToInteractive(key) {\n",
              "          const element = document.querySelector('#df-94fd1c87-602c-4cb1-877e-be07efe3cd49');\n",
              "          const dataTable =\n",
              "            await google.colab.kernel.invokeFunction('convertToInteractive',\n",
              "                                                     [key], {});\n",
              "          if (!dataTable) return;\n",
              "\n",
              "          const docLinkHtml = 'Like what you see? Visit the ' +\n",
              "            '<a target=\"_blank\" href=https://colab.research.google.com/notebooks/data_table.ipynb>data table notebook</a>'\n",
              "            + ' to learn more about interactive tables.';\n",
              "          element.innerHTML = '';\n",
              "          dataTable['output_type'] = 'display_data';\n",
              "          await google.colab.output.renderOutput(dataTable, element);\n",
              "          const docLink = document.createElement('div');\n",
              "          docLink.innerHTML = docLinkHtml;\n",
              "          element.appendChild(docLink);\n",
              "        }\n",
              "      </script>\n",
              "    </div>\n",
              "  </div>\n",
              "  "
            ],
            "text/plain": [
              "       Actual_Price  Predicted_Price\n",
              "count    549.000000       549.000000\n",
              "mean   12972.274385     12973.779366\n",
              "std    16563.811476     16549.243206\n",
              "min      364.330994       373.481108\n",
              "25%     2273.429932      2319.766764\n",
              "50%     7217.427246      7313.818570\n",
              "75%    11489.700195     11420.953285\n",
              "max    66971.828125     67364.270524"
            ]
          },
          "metadata": {},
          "execution_count": 77
        }
      ]
    },
    {
      "cell_type": "code",
      "source": [
        "x2 = dfr.Actual_Price.mean()\n",
        "y2 = dfr.Predicted_Price.mean()\n",
        "Accuracy1 = x2/y2*100\n",
        "print(\"The accuracy of the model is \" , Accuracy1)"
      ],
      "metadata": {
        "colab": {
          "base_uri": "https://localhost:8080/"
        },
        "id": "sXGZlpeVnXP0",
        "outputId": "f63b8ec5-516d-4e47-d515-a4b97f5c9b7b"
      },
      "execution_count": null,
      "outputs": [
        {
          "output_type": "stream",
          "name": "stdout",
          "text": [
            "The accuracy of the model is  99.98839982420698\n"
          ]
        }
      ]
    },
    {
      "cell_type": "code",
      "source": [
        "plt.scatter(dfr.Actual_Price, dfr.Predicted_Price,  color='red')\n",
        "plt.xlabel(\"Actual Price\")\n",
        "plt.ylabel(\"Predicted Price\")\n",
        "\n",
        "plt.show()"
      ],
      "metadata": {
        "colab": {
          "base_uri": "https://localhost:8080/",
          "height": 281
        },
        "id": "1Ls4TIETnbD1",
        "outputId": "430bd490-a0c8-480f-e4f1-05efc7839b03"
      },
      "execution_count": null,
      "outputs": [
        {
          "output_type": "display_data",
          "data": {
            "image/png": "[encoded data removed]",
            "text/plain": [
              "<Figure size 432x288 with 1 Axes>"
            ]
          },
          "metadata": {
            "needs_background": "light"
          }
        }
      ]
    }
  ]
}